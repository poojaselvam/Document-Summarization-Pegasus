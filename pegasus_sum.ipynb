{
  "nbformat": 4,
  "nbformat_minor": 0,
  "metadata": {
    "colab": {
      "name": "pegasus_sum.ipynb",
      "provenance": [],
      "collapsed_sections": [],
      "include_colab_link": true
    },
    "kernelspec": {
      "name": "python3",
      "display_name": "Python 3"
    },
    "widgets": {
      "application/vnd.jupyter.widget-state+json": {
        "63f7f665bb74475994074f4170410d33": {
          "model_module": "@jupyter-widgets/controls",
          "model_name": "HBoxModel",
          "state": {
            "_view_name": "HBoxView",
            "_dom_classes": [],
            "_model_name": "HBoxModel",
            "_view_module": "@jupyter-widgets/controls",
            "_model_module_version": "1.5.0",
            "_view_count": null,
            "_view_module_version": "1.5.0",
            "box_style": "",
            "layout": "IPY_MODEL_e5c659fae05b4dc09c6e13b12fd2ef21",
            "_model_module": "@jupyter-widgets/controls",
            "children": [
              "IPY_MODEL_de0e6296925f4794b4424be0e0743860",
              "IPY_MODEL_4cd9e1c8e8e747f9aada6cd0ea465362"
            ]
          }
        },
        "e5c659fae05b4dc09c6e13b12fd2ef21": {
          "model_module": "@jupyter-widgets/base",
          "model_name": "LayoutModel",
          "state": {
            "_view_name": "LayoutView",
            "grid_template_rows": null,
            "right": null,
            "justify_content": null,
            "_view_module": "@jupyter-widgets/base",
            "overflow": null,
            "_model_module_version": "1.2.0",
            "_view_count": null,
            "flex_flow": null,
            "width": null,
            "min_width": null,
            "border": null,
            "align_items": null,
            "bottom": null,
            "_model_module": "@jupyter-widgets/base",
            "top": null,
            "grid_column": null,
            "overflow_y": null,
            "overflow_x": null,
            "grid_auto_flow": null,
            "grid_area": null,
            "grid_template_columns": null,
            "flex": null,
            "_model_name": "LayoutModel",
            "justify_items": null,
            "grid_row": null,
            "max_height": null,
            "align_content": null,
            "visibility": null,
            "align_self": null,
            "height": null,
            "min_height": null,
            "padding": null,
            "grid_auto_rows": null,
            "grid_gap": null,
            "max_width": null,
            "order": null,
            "_view_module_version": "1.2.0",
            "grid_template_areas": null,
            "object_position": null,
            "object_fit": null,
            "grid_auto_columns": null,
            "margin": null,
            "display": null,
            "left": null
          }
        },
        "de0e6296925f4794b4424be0e0743860": {
          "model_module": "@jupyter-widgets/controls",
          "model_name": "FloatProgressModel",
          "state": {
            "_view_name": "ProgressView",
            "style": "IPY_MODEL_a5bf30732215490bad68431796185ee4",
            "_dom_classes": [],
            "description": "Downloading: 100%",
            "_model_name": "FloatProgressModel",
            "bar_style": "success",
            "max": 1362,
            "_view_module": "@jupyter-widgets/controls",
            "_model_module_version": "1.5.0",
            "value": 1362,
            "_view_count": null,
            "_view_module_version": "1.5.0",
            "orientation": "horizontal",
            "min": 0,
            "description_tooltip": null,
            "_model_module": "@jupyter-widgets/controls",
            "layout": "IPY_MODEL_6ef364ee90c647e4aed4dc66d67f7383"
          }
        },
        "4cd9e1c8e8e747f9aada6cd0ea465362": {
          "model_module": "@jupyter-widgets/controls",
          "model_name": "HTMLModel",
          "state": {
            "_view_name": "HTMLView",
            "style": "IPY_MODEL_e71dfe8c2e4f4c7eaa80695ef20c5a31",
            "_dom_classes": [],
            "description": "",
            "_model_name": "HTMLModel",
            "placeholder": "​",
            "_view_module": "@jupyter-widgets/controls",
            "_model_module_version": "1.5.0",
            "value": " 1.36k/1.36k [00:00&lt;00:00, 3.89kB/s]",
            "_view_count": null,
            "_view_module_version": "1.5.0",
            "description_tooltip": null,
            "_model_module": "@jupyter-widgets/controls",
            "layout": "IPY_MODEL_7ce88a94f0a44dadaf1f9fd822d270e2"
          }
        },
        "a5bf30732215490bad68431796185ee4": {
          "model_module": "@jupyter-widgets/controls",
          "model_name": "ProgressStyleModel",
          "state": {
            "_view_name": "StyleView",
            "_model_name": "ProgressStyleModel",
            "description_width": "initial",
            "_view_module": "@jupyter-widgets/base",
            "_model_module_version": "1.5.0",
            "_view_count": null,
            "_view_module_version": "1.2.0",
            "bar_color": null,
            "_model_module": "@jupyter-widgets/controls"
          }
        },
        "6ef364ee90c647e4aed4dc66d67f7383": {
          "model_module": "@jupyter-widgets/base",
          "model_name": "LayoutModel",
          "state": {
            "_view_name": "LayoutView",
            "grid_template_rows": null,
            "right": null,
            "justify_content": null,
            "_view_module": "@jupyter-widgets/base",
            "overflow": null,
            "_model_module_version": "1.2.0",
            "_view_count": null,
            "flex_flow": null,
            "width": null,
            "min_width": null,
            "border": null,
            "align_items": null,
            "bottom": null,
            "_model_module": "@jupyter-widgets/base",
            "top": null,
            "grid_column": null,
            "overflow_y": null,
            "overflow_x": null,
            "grid_auto_flow": null,
            "grid_area": null,
            "grid_template_columns": null,
            "flex": null,
            "_model_name": "LayoutModel",
            "justify_items": null,
            "grid_row": null,
            "max_height": null,
            "align_content": null,
            "visibility": null,
            "align_self": null,
            "height": null,
            "min_height": null,
            "padding": null,
            "grid_auto_rows": null,
            "grid_gap": null,
            "max_width": null,
            "order": null,
            "_view_module_version": "1.2.0",
            "grid_template_areas": null,
            "object_position": null,
            "object_fit": null,
            "grid_auto_columns": null,
            "margin": null,
            "display": null,
            "left": null
          }
        },
        "e71dfe8c2e4f4c7eaa80695ef20c5a31": {
          "model_module": "@jupyter-widgets/controls",
          "model_name": "DescriptionStyleModel",
          "state": {
            "_view_name": "StyleView",
            "_model_name": "DescriptionStyleModel",
            "description_width": "",
            "_view_module": "@jupyter-widgets/base",
            "_model_module_version": "1.5.0",
            "_view_count": null,
            "_view_module_version": "1.2.0",
            "_model_module": "@jupyter-widgets/controls"
          }
        },
        "7ce88a94f0a44dadaf1f9fd822d270e2": {
          "model_module": "@jupyter-widgets/base",
          "model_name": "LayoutModel",
          "state": {
            "_view_name": "LayoutView",
            "grid_template_rows": null,
            "right": null,
            "justify_content": null,
            "_view_module": "@jupyter-widgets/base",
            "overflow": null,
            "_model_module_version": "1.2.0",
            "_view_count": null,
            "flex_flow": null,
            "width": null,
            "min_width": null,
            "border": null,
            "align_items": null,
            "bottom": null,
            "_model_module": "@jupyter-widgets/base",
            "top": null,
            "grid_column": null,
            "overflow_y": null,
            "overflow_x": null,
            "grid_auto_flow": null,
            "grid_area": null,
            "grid_template_columns": null,
            "flex": null,
            "_model_name": "LayoutModel",
            "justify_items": null,
            "grid_row": null,
            "max_height": null,
            "align_content": null,
            "visibility": null,
            "align_self": null,
            "height": null,
            "min_height": null,
            "padding": null,
            "grid_auto_rows": null,
            "grid_gap": null,
            "max_width": null,
            "order": null,
            "_view_module_version": "1.2.0",
            "grid_template_areas": null,
            "object_position": null,
            "object_fit": null,
            "grid_auto_columns": null,
            "margin": null,
            "display": null,
            "left": null
          }
        },
        "2172d71fd2ec4fb0ae3cf59b3709aba2": {
          "model_module": "@jupyter-widgets/controls",
          "model_name": "HBoxModel",
          "state": {
            "_view_name": "HBoxView",
            "_dom_classes": [],
            "_model_name": "HBoxModel",
            "_view_module": "@jupyter-widgets/controls",
            "_model_module_version": "1.5.0",
            "_view_count": null,
            "_view_module_version": "1.5.0",
            "box_style": "",
            "layout": "IPY_MODEL_2838588431dc4d44a5aed1744d0bcbda",
            "_model_module": "@jupyter-widgets/controls",
            "children": [
              "IPY_MODEL_3ef31c8ffd724fc6a1c654455bed69d2",
              "IPY_MODEL_0fb9aa6417754b5e9d5cabdbce978929"
            ]
          }
        },
        "2838588431dc4d44a5aed1744d0bcbda": {
          "model_module": "@jupyter-widgets/base",
          "model_name": "LayoutModel",
          "state": {
            "_view_name": "LayoutView",
            "grid_template_rows": null,
            "right": null,
            "justify_content": null,
            "_view_module": "@jupyter-widgets/base",
            "overflow": null,
            "_model_module_version": "1.2.0",
            "_view_count": null,
            "flex_flow": null,
            "width": null,
            "min_width": null,
            "border": null,
            "align_items": null,
            "bottom": null,
            "_model_module": "@jupyter-widgets/base",
            "top": null,
            "grid_column": null,
            "overflow_y": null,
            "overflow_x": null,
            "grid_auto_flow": null,
            "grid_area": null,
            "grid_template_columns": null,
            "flex": null,
            "_model_name": "LayoutModel",
            "justify_items": null,
            "grid_row": null,
            "max_height": null,
            "align_content": null,
            "visibility": null,
            "align_self": null,
            "height": null,
            "min_height": null,
            "padding": null,
            "grid_auto_rows": null,
            "grid_gap": null,
            "max_width": null,
            "order": null,
            "_view_module_version": "1.2.0",
            "grid_template_areas": null,
            "object_position": null,
            "object_fit": null,
            "grid_auto_columns": null,
            "margin": null,
            "display": null,
            "left": null
          }
        },
        "3ef31c8ffd724fc6a1c654455bed69d2": {
          "model_module": "@jupyter-widgets/controls",
          "model_name": "FloatProgressModel",
          "state": {
            "_view_name": "ProgressView",
            "style": "IPY_MODEL_612da65d36234bef9d9a617db87b84fd",
            "_dom_classes": [],
            "description": "Downloading: 100%",
            "_model_name": "FloatProgressModel",
            "bar_style": "success",
            "max": 2275329241,
            "_view_module": "@jupyter-widgets/controls",
            "_model_module_version": "1.5.0",
            "value": 2275329241,
            "_view_count": null,
            "_view_module_version": "1.5.0",
            "orientation": "horizontal",
            "min": 0,
            "description_tooltip": null,
            "_model_module": "@jupyter-widgets/controls",
            "layout": "IPY_MODEL_4e665722abcb400a8ced8ff2a0df6e09"
          }
        },
        "0fb9aa6417754b5e9d5cabdbce978929": {
          "model_module": "@jupyter-widgets/controls",
          "model_name": "HTMLModel",
          "state": {
            "_view_name": "HTMLView",
            "style": "IPY_MODEL_3056e2b2a56d425686da4d5072fd7b4f",
            "_dom_classes": [],
            "description": "",
            "_model_name": "HTMLModel",
            "placeholder": "​",
            "_view_module": "@jupyter-widgets/controls",
            "_model_module_version": "1.5.0",
            "value": " 2.28G/2.28G [00:34&lt;00:00, 66.9MB/s]",
            "_view_count": null,
            "_view_module_version": "1.5.0",
            "description_tooltip": null,
            "_model_module": "@jupyter-widgets/controls",
            "layout": "IPY_MODEL_74e7ad68240e4e7e993450824e3512d6"
          }
        },
        "612da65d36234bef9d9a617db87b84fd": {
          "model_module": "@jupyter-widgets/controls",
          "model_name": "ProgressStyleModel",
          "state": {
            "_view_name": "StyleView",
            "_model_name": "ProgressStyleModel",
            "description_width": "initial",
            "_view_module": "@jupyter-widgets/base",
            "_model_module_version": "1.5.0",
            "_view_count": null,
            "_view_module_version": "1.2.0",
            "bar_color": null,
            "_model_module": "@jupyter-widgets/controls"
          }
        },
        "4e665722abcb400a8ced8ff2a0df6e09": {
          "model_module": "@jupyter-widgets/base",
          "model_name": "LayoutModel",
          "state": {
            "_view_name": "LayoutView",
            "grid_template_rows": null,
            "right": null,
            "justify_content": null,
            "_view_module": "@jupyter-widgets/base",
            "overflow": null,
            "_model_module_version": "1.2.0",
            "_view_count": null,
            "flex_flow": null,
            "width": null,
            "min_width": null,
            "border": null,
            "align_items": null,
            "bottom": null,
            "_model_module": "@jupyter-widgets/base",
            "top": null,
            "grid_column": null,
            "overflow_y": null,
            "overflow_x": null,
            "grid_auto_flow": null,
            "grid_area": null,
            "grid_template_columns": null,
            "flex": null,
            "_model_name": "LayoutModel",
            "justify_items": null,
            "grid_row": null,
            "max_height": null,
            "align_content": null,
            "visibility": null,
            "align_self": null,
            "height": null,
            "min_height": null,
            "padding": null,
            "grid_auto_rows": null,
            "grid_gap": null,
            "max_width": null,
            "order": null,
            "_view_module_version": "1.2.0",
            "grid_template_areas": null,
            "object_position": null,
            "object_fit": null,
            "grid_auto_columns": null,
            "margin": null,
            "display": null,
            "left": null
          }
        },
        "3056e2b2a56d425686da4d5072fd7b4f": {
          "model_module": "@jupyter-widgets/controls",
          "model_name": "DescriptionStyleModel",
          "state": {
            "_view_name": "StyleView",
            "_model_name": "DescriptionStyleModel",
            "description_width": "",
            "_view_module": "@jupyter-widgets/base",
            "_model_module_version": "1.5.0",
            "_view_count": null,
            "_view_module_version": "1.2.0",
            "_model_module": "@jupyter-widgets/controls"
          }
        },
        "74e7ad68240e4e7e993450824e3512d6": {
          "model_module": "@jupyter-widgets/base",
          "model_name": "LayoutModel",
          "state": {
            "_view_name": "LayoutView",
            "grid_template_rows": null,
            "right": null,
            "justify_content": null,
            "_view_module": "@jupyter-widgets/base",
            "overflow": null,
            "_model_module_version": "1.2.0",
            "_view_count": null,
            "flex_flow": null,
            "width": null,
            "min_width": null,
            "border": null,
            "align_items": null,
            "bottom": null,
            "_model_module": "@jupyter-widgets/base",
            "top": null,
            "grid_column": null,
            "overflow_y": null,
            "overflow_x": null,
            "grid_auto_flow": null,
            "grid_area": null,
            "grid_template_columns": null,
            "flex": null,
            "_model_name": "LayoutModel",
            "justify_items": null,
            "grid_row": null,
            "max_height": null,
            "align_content": null,
            "visibility": null,
            "align_self": null,
            "height": null,
            "min_height": null,
            "padding": null,
            "grid_auto_rows": null,
            "grid_gap": null,
            "max_width": null,
            "order": null,
            "_view_module_version": "1.2.0",
            "grid_template_areas": null,
            "object_position": null,
            "object_fit": null,
            "grid_auto_columns": null,
            "margin": null,
            "display": null,
            "left": null
          }
        },
        "c2ca0508fbfb4effa3ce52c4f21c9ec3": {
          "model_module": "@jupyter-widgets/controls",
          "model_name": "HBoxModel",
          "state": {
            "_view_name": "HBoxView",
            "_dom_classes": [],
            "_model_name": "HBoxModel",
            "_view_module": "@jupyter-widgets/controls",
            "_model_module_version": "1.5.0",
            "_view_count": null,
            "_view_module_version": "1.5.0",
            "box_style": "",
            "layout": "IPY_MODEL_c19385f70c354f7e99ff09b49d474dbc",
            "_model_module": "@jupyter-widgets/controls",
            "children": [
              "IPY_MODEL_28066b4655a440e5aa18074c69fa0e87",
              "IPY_MODEL_ca3d6a98d1744f2dae8ea521f70a8a6a"
            ]
          }
        },
        "c19385f70c354f7e99ff09b49d474dbc": {
          "model_module": "@jupyter-widgets/base",
          "model_name": "LayoutModel",
          "state": {
            "_view_name": "LayoutView",
            "grid_template_rows": null,
            "right": null,
            "justify_content": null,
            "_view_module": "@jupyter-widgets/base",
            "overflow": null,
            "_model_module_version": "1.2.0",
            "_view_count": null,
            "flex_flow": null,
            "width": null,
            "min_width": null,
            "border": null,
            "align_items": null,
            "bottom": null,
            "_model_module": "@jupyter-widgets/base",
            "top": null,
            "grid_column": null,
            "overflow_y": null,
            "overflow_x": null,
            "grid_auto_flow": null,
            "grid_area": null,
            "grid_template_columns": null,
            "flex": null,
            "_model_name": "LayoutModel",
            "justify_items": null,
            "grid_row": null,
            "max_height": null,
            "align_content": null,
            "visibility": null,
            "align_self": null,
            "height": null,
            "min_height": null,
            "padding": null,
            "grid_auto_rows": null,
            "grid_gap": null,
            "max_width": null,
            "order": null,
            "_view_module_version": "1.2.0",
            "grid_template_areas": null,
            "object_position": null,
            "object_fit": null,
            "grid_auto_columns": null,
            "margin": null,
            "display": null,
            "left": null
          }
        },
        "28066b4655a440e5aa18074c69fa0e87": {
          "model_module": "@jupyter-widgets/controls",
          "model_name": "FloatProgressModel",
          "state": {
            "_view_name": "ProgressView",
            "style": "IPY_MODEL_aab7ff60da8c4e8b98dd0e18df26061b",
            "_dom_classes": [],
            "description": "Downloading: 100%",
            "_model_name": "FloatProgressModel",
            "bar_style": "success",
            "max": 1362,
            "_view_module": "@jupyter-widgets/controls",
            "_model_module_version": "1.5.0",
            "value": 1362,
            "_view_count": null,
            "_view_module_version": "1.5.0",
            "orientation": "horizontal",
            "min": 0,
            "description_tooltip": null,
            "_model_module": "@jupyter-widgets/controls",
            "layout": "IPY_MODEL_1834a2fcadb4475c813968f782de5ee9"
          }
        },
        "ca3d6a98d1744f2dae8ea521f70a8a6a": {
          "model_module": "@jupyter-widgets/controls",
          "model_name": "HTMLModel",
          "state": {
            "_view_name": "HTMLView",
            "style": "IPY_MODEL_e1761e777c5a4941afb62345bf531d5c",
            "_dom_classes": [],
            "description": "",
            "_model_name": "HTMLModel",
            "placeholder": "​",
            "_view_module": "@jupyter-widgets/controls",
            "_model_module_version": "1.5.0",
            "value": " 1.36k/1.36k [01:23&lt;00:00, 16.3B/s]",
            "_view_count": null,
            "_view_module_version": "1.5.0",
            "description_tooltip": null,
            "_model_module": "@jupyter-widgets/controls",
            "layout": "IPY_MODEL_0b9db7ed48ba4d4798b86650390ece6f"
          }
        },
        "aab7ff60da8c4e8b98dd0e18df26061b": {
          "model_module": "@jupyter-widgets/controls",
          "model_name": "ProgressStyleModel",
          "state": {
            "_view_name": "StyleView",
            "_model_name": "ProgressStyleModel",
            "description_width": "initial",
            "_view_module": "@jupyter-widgets/base",
            "_model_module_version": "1.5.0",
            "_view_count": null,
            "_view_module_version": "1.2.0",
            "bar_color": null,
            "_model_module": "@jupyter-widgets/controls"
          }
        },
        "1834a2fcadb4475c813968f782de5ee9": {
          "model_module": "@jupyter-widgets/base",
          "model_name": "LayoutModel",
          "state": {
            "_view_name": "LayoutView",
            "grid_template_rows": null,
            "right": null,
            "justify_content": null,
            "_view_module": "@jupyter-widgets/base",
            "overflow": null,
            "_model_module_version": "1.2.0",
            "_view_count": null,
            "flex_flow": null,
            "width": null,
            "min_width": null,
            "border": null,
            "align_items": null,
            "bottom": null,
            "_model_module": "@jupyter-widgets/base",
            "top": null,
            "grid_column": null,
            "overflow_y": null,
            "overflow_x": null,
            "grid_auto_flow": null,
            "grid_area": null,
            "grid_template_columns": null,
            "flex": null,
            "_model_name": "LayoutModel",
            "justify_items": null,
            "grid_row": null,
            "max_height": null,
            "align_content": null,
            "visibility": null,
            "align_self": null,
            "height": null,
            "min_height": null,
            "padding": null,
            "grid_auto_rows": null,
            "grid_gap": null,
            "max_width": null,
            "order": null,
            "_view_module_version": "1.2.0",
            "grid_template_areas": null,
            "object_position": null,
            "object_fit": null,
            "grid_auto_columns": null,
            "margin": null,
            "display": null,
            "left": null
          }
        },
        "e1761e777c5a4941afb62345bf531d5c": {
          "model_module": "@jupyter-widgets/controls",
          "model_name": "DescriptionStyleModel",
          "state": {
            "_view_name": "StyleView",
            "_model_name": "DescriptionStyleModel",
            "description_width": "",
            "_view_module": "@jupyter-widgets/base",
            "_model_module_version": "1.5.0",
            "_view_count": null,
            "_view_module_version": "1.2.0",
            "_model_module": "@jupyter-widgets/controls"
          }
        },
        "0b9db7ed48ba4d4798b86650390ece6f": {
          "model_module": "@jupyter-widgets/base",
          "model_name": "LayoutModel",
          "state": {
            "_view_name": "LayoutView",
            "grid_template_rows": null,
            "right": null,
            "justify_content": null,
            "_view_module": "@jupyter-widgets/base",
            "overflow": null,
            "_model_module_version": "1.2.0",
            "_view_count": null,
            "flex_flow": null,
            "width": null,
            "min_width": null,
            "border": null,
            "align_items": null,
            "bottom": null,
            "_model_module": "@jupyter-widgets/base",
            "top": null,
            "grid_column": null,
            "overflow_y": null,
            "overflow_x": null,
            "grid_auto_flow": null,
            "grid_area": null,
            "grid_template_columns": null,
            "flex": null,
            "_model_name": "LayoutModel",
            "justify_items": null,
            "grid_row": null,
            "max_height": null,
            "align_content": null,
            "visibility": null,
            "align_self": null,
            "height": null,
            "min_height": null,
            "padding": null,
            "grid_auto_rows": null,
            "grid_gap": null,
            "max_width": null,
            "order": null,
            "_view_module_version": "1.2.0",
            "grid_template_areas": null,
            "object_position": null,
            "object_fit": null,
            "grid_auto_columns": null,
            "margin": null,
            "display": null,
            "left": null
          }
        },
        "e59ffc8186e642ccba4b913129d15ecc": {
          "model_module": "@jupyter-widgets/controls",
          "model_name": "HBoxModel",
          "state": {
            "_view_name": "HBoxView",
            "_dom_classes": [],
            "_model_name": "HBoxModel",
            "_view_module": "@jupyter-widgets/controls",
            "_model_module_version": "1.5.0",
            "_view_count": null,
            "_view_module_version": "1.5.0",
            "box_style": "",
            "layout": "IPY_MODEL_b73c3e9c389846c6afa1297d5a797697",
            "_model_module": "@jupyter-widgets/controls",
            "children": [
              "IPY_MODEL_a03a7877843447c89d8ba1b97fdfab13",
              "IPY_MODEL_0e5d7fba78a34f5691890993a9166432"
            ]
          }
        },
        "b73c3e9c389846c6afa1297d5a797697": {
          "model_module": "@jupyter-widgets/base",
          "model_name": "LayoutModel",
          "state": {
            "_view_name": "LayoutView",
            "grid_template_rows": null,
            "right": null,
            "justify_content": null,
            "_view_module": "@jupyter-widgets/base",
            "overflow": null,
            "_model_module_version": "1.2.0",
            "_view_count": null,
            "flex_flow": null,
            "width": null,
            "min_width": null,
            "border": null,
            "align_items": null,
            "bottom": null,
            "_model_module": "@jupyter-widgets/base",
            "top": null,
            "grid_column": null,
            "overflow_y": null,
            "overflow_x": null,
            "grid_auto_flow": null,
            "grid_area": null,
            "grid_template_columns": null,
            "flex": null,
            "_model_name": "LayoutModel",
            "justify_items": null,
            "grid_row": null,
            "max_height": null,
            "align_content": null,
            "visibility": null,
            "align_self": null,
            "height": null,
            "min_height": null,
            "padding": null,
            "grid_auto_rows": null,
            "grid_gap": null,
            "max_width": null,
            "order": null,
            "_view_module_version": "1.2.0",
            "grid_template_areas": null,
            "object_position": null,
            "object_fit": null,
            "grid_auto_columns": null,
            "margin": null,
            "display": null,
            "left": null
          }
        },
        "a03a7877843447c89d8ba1b97fdfab13": {
          "model_module": "@jupyter-widgets/controls",
          "model_name": "FloatProgressModel",
          "state": {
            "_view_name": "ProgressView",
            "style": "IPY_MODEL_53ef703dd28b4a66940f1e58782b53ac",
            "_dom_classes": [],
            "description": "Downloading: 100%",
            "_model_name": "FloatProgressModel",
            "bar_style": "success",
            "max": 2275329241,
            "_view_module": "@jupyter-widgets/controls",
            "_model_module_version": "1.5.0",
            "value": 2275329241,
            "_view_count": null,
            "_view_module_version": "1.5.0",
            "orientation": "horizontal",
            "min": 0,
            "description_tooltip": null,
            "_model_module": "@jupyter-widgets/controls",
            "layout": "IPY_MODEL_ad73e7fd351a4a608f7744a5b6a8971f"
          }
        },
        "0e5d7fba78a34f5691890993a9166432": {
          "model_module": "@jupyter-widgets/controls",
          "model_name": "HTMLModel",
          "state": {
            "_view_name": "HTMLView",
            "style": "IPY_MODEL_2a5885564412498a9828d64f3f300582",
            "_dom_classes": [],
            "description": "",
            "_model_name": "HTMLModel",
            "placeholder": "​",
            "_view_module": "@jupyter-widgets/controls",
            "_model_module_version": "1.5.0",
            "value": " 2.28G/2.28G [01:08&lt;00:00, 33.2MB/s]",
            "_view_count": null,
            "_view_module_version": "1.5.0",
            "description_tooltip": null,
            "_model_module": "@jupyter-widgets/controls",
            "layout": "IPY_MODEL_d2626fc3163e4829a3d742f50e473fd3"
          }
        },
        "53ef703dd28b4a66940f1e58782b53ac": {
          "model_module": "@jupyter-widgets/controls",
          "model_name": "ProgressStyleModel",
          "state": {
            "_view_name": "StyleView",
            "_model_name": "ProgressStyleModel",
            "description_width": "initial",
            "_view_module": "@jupyter-widgets/base",
            "_model_module_version": "1.5.0",
            "_view_count": null,
            "_view_module_version": "1.2.0",
            "bar_color": null,
            "_model_module": "@jupyter-widgets/controls"
          }
        },
        "ad73e7fd351a4a608f7744a5b6a8971f": {
          "model_module": "@jupyter-widgets/base",
          "model_name": "LayoutModel",
          "state": {
            "_view_name": "LayoutView",
            "grid_template_rows": null,
            "right": null,
            "justify_content": null,
            "_view_module": "@jupyter-widgets/base",
            "overflow": null,
            "_model_module_version": "1.2.0",
            "_view_count": null,
            "flex_flow": null,
            "width": null,
            "min_width": null,
            "border": null,
            "align_items": null,
            "bottom": null,
            "_model_module": "@jupyter-widgets/base",
            "top": null,
            "grid_column": null,
            "overflow_y": null,
            "overflow_x": null,
            "grid_auto_flow": null,
            "grid_area": null,
            "grid_template_columns": null,
            "flex": null,
            "_model_name": "LayoutModel",
            "justify_items": null,
            "grid_row": null,
            "max_height": null,
            "align_content": null,
            "visibility": null,
            "align_self": null,
            "height": null,
            "min_height": null,
            "padding": null,
            "grid_auto_rows": null,
            "grid_gap": null,
            "max_width": null,
            "order": null,
            "_view_module_version": "1.2.0",
            "grid_template_areas": null,
            "object_position": null,
            "object_fit": null,
            "grid_auto_columns": null,
            "margin": null,
            "display": null,
            "left": null
          }
        },
        "2a5885564412498a9828d64f3f300582": {
          "model_module": "@jupyter-widgets/controls",
          "model_name": "DescriptionStyleModel",
          "state": {
            "_view_name": "StyleView",
            "_model_name": "DescriptionStyleModel",
            "description_width": "",
            "_view_module": "@jupyter-widgets/base",
            "_model_module_version": "1.5.0",
            "_view_count": null,
            "_view_module_version": "1.2.0",
            "_model_module": "@jupyter-widgets/controls"
          }
        },
        "d2626fc3163e4829a3d742f50e473fd3": {
          "model_module": "@jupyter-widgets/base",
          "model_name": "LayoutModel",
          "state": {
            "_view_name": "LayoutView",
            "grid_template_rows": null,
            "right": null,
            "justify_content": null,
            "_view_module": "@jupyter-widgets/base",
            "overflow": null,
            "_model_module_version": "1.2.0",
            "_view_count": null,
            "flex_flow": null,
            "width": null,
            "min_width": null,
            "border": null,
            "align_items": null,
            "bottom": null,
            "_model_module": "@jupyter-widgets/base",
            "top": null,
            "grid_column": null,
            "overflow_y": null,
            "overflow_x": null,
            "grid_auto_flow": null,
            "grid_area": null,
            "grid_template_columns": null,
            "flex": null,
            "_model_name": "LayoutModel",
            "justify_items": null,
            "grid_row": null,
            "max_height": null,
            "align_content": null,
            "visibility": null,
            "align_self": null,
            "height": null,
            "min_height": null,
            "padding": null,
            "grid_auto_rows": null,
            "grid_gap": null,
            "max_width": null,
            "order": null,
            "_view_module_version": "1.2.0",
            "grid_template_areas": null,
            "object_position": null,
            "object_fit": null,
            "grid_auto_columns": null,
            "margin": null,
            "display": null,
            "left": null
          }
        }
      }
    }
  },
  "cells": [
    {
      "cell_type": "markdown",
      "metadata": {
        "id": "view-in-github",
        "colab_type": "text"
      },
      "source": [
        "<a href=\"https://colab.research.google.com/github/poojaselvam/Document-Summarization-Pegasus/blob/main/pegasus_sum.ipynb\" target=\"_parent\"><img src=\"https://colab.research.google.com/assets/colab-badge.svg\" alt=\"Open In Colab\"/></a>"
      ]
    },
    {
      "cell_type": "code",
      "metadata": {
        "colab": {
          "base_uri": "https://localhost:8080/"
        },
        "id": "pC3OjaBFL7tb",
        "outputId": "bc6fd5f4-bbef-465f-a16c-432aea252662"
      },
      "source": [
        "!pip install transformers==3.5"
      ],
      "execution_count": 5,
      "outputs": [
        {
          "output_type": "stream",
          "text": [
            "Collecting transformers==3.5\n",
            "\u001b[?25l  Downloading https://files.pythonhosted.org/packages/9c/34/fb092588df61bf33f113ade030d1cbe74fb73a0353648f8dd938a223dce7/transformers-3.5.0-py3-none-any.whl (1.3MB)\n",
            "\u001b[K     |████████████████████████████████| 1.3MB 5.4MB/s \n",
            "\u001b[?25hRequirement already satisfied: filelock in /usr/local/lib/python3.6/dist-packages (from transformers==3.5) (3.0.12)\n",
            "Requirement already satisfied: numpy in /usr/local/lib/python3.6/dist-packages (from transformers==3.5) (1.19.5)\n",
            "Collecting tokenizers==0.9.3\n",
            "\u001b[?25l  Downloading https://files.pythonhosted.org/packages/4c/34/b39eb9994bc3c999270b69c9eea40ecc6f0e97991dba28282b9fd32d44ee/tokenizers-0.9.3-cp36-cp36m-manylinux1_x86_64.whl (2.9MB)\n",
            "\u001b[K     |████████████████████████████████| 2.9MB 13.2MB/s \n",
            "\u001b[?25hCollecting sentencepiece==0.1.91\n",
            "\u001b[?25l  Downloading https://files.pythonhosted.org/packages/d4/a4/d0a884c4300004a78cca907a6ff9a5e9fe4f090f5d95ab341c53d28cbc58/sentencepiece-0.1.91-cp36-cp36m-manylinux1_x86_64.whl (1.1MB)\n",
            "\u001b[K     |████████████████████████████████| 1.1MB 40.3MB/s \n",
            "\u001b[?25hRequirement already satisfied: packaging in /usr/local/lib/python3.6/dist-packages (from transformers==3.5) (20.9)\n",
            "Requirement already satisfied: protobuf in /usr/local/lib/python3.6/dist-packages (from transformers==3.5) (3.12.4)\n",
            "Requirement already satisfied: dataclasses; python_version < \"3.7\" in /usr/local/lib/python3.6/dist-packages (from transformers==3.5) (0.8)\n",
            "Requirement already satisfied: requests in /usr/local/lib/python3.6/dist-packages (from transformers==3.5) (2.23.0)\n",
            "Collecting sacremoses\n",
            "\u001b[?25l  Downloading https://files.pythonhosted.org/packages/7d/34/09d19aff26edcc8eb2a01bed8e98f13a1537005d31e95233fd48216eed10/sacremoses-0.0.43.tar.gz (883kB)\n",
            "\u001b[K     |████████████████████████████████| 890kB 39.3MB/s \n",
            "\u001b[?25hRequirement already satisfied: tqdm>=4.27 in /usr/local/lib/python3.6/dist-packages (from transformers==3.5) (4.41.1)\n",
            "Requirement already satisfied: regex!=2019.12.17 in /usr/local/lib/python3.6/dist-packages (from transformers==3.5) (2019.12.20)\n",
            "Requirement already satisfied: pyparsing>=2.0.2 in /usr/local/lib/python3.6/dist-packages (from packaging->transformers==3.5) (2.4.7)\n",
            "Requirement already satisfied: six>=1.9 in /usr/local/lib/python3.6/dist-packages (from protobuf->transformers==3.5) (1.15.0)\n",
            "Requirement already satisfied: setuptools in /usr/local/lib/python3.6/dist-packages (from protobuf->transformers==3.5) (53.0.0)\n",
            "Requirement already satisfied: chardet<4,>=3.0.2 in /usr/local/lib/python3.6/dist-packages (from requests->transformers==3.5) (3.0.4)\n",
            "Requirement already satisfied: certifi>=2017.4.17 in /usr/local/lib/python3.6/dist-packages (from requests->transformers==3.5) (2020.12.5)\n",
            "Requirement already satisfied: idna<3,>=2.5 in /usr/local/lib/python3.6/dist-packages (from requests->transformers==3.5) (2.10)\n",
            "Requirement already satisfied: urllib3!=1.25.0,!=1.25.1,<1.26,>=1.21.1 in /usr/local/lib/python3.6/dist-packages (from requests->transformers==3.5) (1.24.3)\n",
            "Requirement already satisfied: click in /usr/local/lib/python3.6/dist-packages (from sacremoses->transformers==3.5) (7.1.2)\n",
            "Requirement already satisfied: joblib in /usr/local/lib/python3.6/dist-packages (from sacremoses->transformers==3.5) (1.0.0)\n",
            "Building wheels for collected packages: sacremoses\n",
            "  Building wheel for sacremoses (setup.py) ... \u001b[?25l\u001b[?25hdone\n",
            "  Created wheel for sacremoses: filename=sacremoses-0.0.43-cp36-none-any.whl size=893261 sha256=3abac92f90d1ce3c64a1ee0e33ed139c487a6128d3cd5b482f03732f80ef5c2a\n",
            "  Stored in directory: /root/.cache/pip/wheels/29/3c/fd/7ce5c3f0666dab31a50123635e6fb5e19ceb42ce38d4e58f45\n",
            "Successfully built sacremoses\n",
            "Installing collected packages: tokenizers, sentencepiece, sacremoses, transformers\n",
            "Successfully installed sacremoses-0.0.43 sentencepiece-0.1.91 tokenizers-0.9.3 transformers-3.5.0\n"
          ],
          "name": "stdout"
        }
      ]
    },
    {
      "cell_type": "code",
      "metadata": {
        "colab": {
          "base_uri": "https://localhost:8080/"
        },
        "id": "yO84O6dYMIUw",
        "outputId": "2a36951d-7a5f-46c9-fc17-67047a132ca7"
      },
      "source": [
        "!pip install torch"
      ],
      "execution_count": 6,
      "outputs": [
        {
          "output_type": "stream",
          "text": [
            "Requirement already satisfied: torch in /usr/local/lib/python3.6/dist-packages (1.7.0+cu101)\n",
            "Requirement already satisfied: numpy in /usr/local/lib/python3.6/dist-packages (from torch) (1.19.5)\n",
            "Requirement already satisfied: future in /usr/local/lib/python3.6/dist-packages (from torch) (0.16.0)\n",
            "Requirement already satisfied: typing-extensions in /usr/local/lib/python3.6/dist-packages (from torch) (3.7.4.3)\n",
            "Requirement already satisfied: dataclasses in /usr/local/lib/python3.6/dist-packages (from torch) (0.8)\n"
          ],
          "name": "stdout"
        }
      ]
    },
    {
      "cell_type": "code",
      "metadata": {
        "colab": {
          "base_uri": "https://localhost:8080/"
        },
        "id": "6Xfxq3UwMQhP",
        "outputId": "7da22997-b77e-4f55-d869-7299e8437fbd"
      },
      "source": [
        "!pip install sentencepiece"
      ],
      "execution_count": 7,
      "outputs": [
        {
          "output_type": "stream",
          "text": [
            "Requirement already satisfied: sentencepiece in /usr/local/lib/python3.6/dist-packages (0.1.91)\n"
          ],
          "name": "stdout"
        }
      ]
    },
    {
      "cell_type": "code",
      "metadata": {
        "id": "CKLCXYGvMUd2"
      },
      "source": [
        "import sentencepiece"
      ],
      "execution_count": 8,
      "outputs": []
    },
    {
      "cell_type": "code",
      "metadata": {
        "id": "JdJxJ7eSMXpm"
      },
      "source": [
        "from transformers import PegasusForConditionalGeneration, PegasusTokenizer"
      ],
      "execution_count": 9,
      "outputs": []
    },
    {
      "cell_type": "code",
      "metadata": {
        "id": "i7NB1O0xMkza"
      },
      "source": [
        "import torch\r\n",
        "model_name = 'google/pegasus-xsum'\r\n",
        "torch_device = 'cuda' if torch.cuda.is_available() else 'cpu'\r\n"
      ],
      "execution_count": 15,
      "outputs": []
    },
    {
      "cell_type": "code",
      "metadata": {
        "id": "PVjGsVFsZ5Q6"
      },
      "source": [
        "tokenizer = PegasusTokenizer.from_pretrained(model_name)"
      ],
      "execution_count": null,
      "outputs": []
    },
    {
      "cell_type": "code",
      "metadata": {
        "id": "Pc8N06DxYbBD"
      },
      "source": [
        "import pickle"
      ],
      "execution_count": 12,
      "outputs": []
    },
    {
      "cell_type": "code",
      "metadata": {
        "id": "-lpN3QKmYq1X"
      },
      "source": [
        "tokenizer_pickle=pickle.dumps(tokenizer)"
      ],
      "execution_count": 16,
      "outputs": []
    },
    {
      "cell_type": "code",
      "metadata": {
        "colab": {
          "base_uri": "https://localhost:8080/",
          "height": 116,
          "referenced_widgets": [
            "63f7f665bb74475994074f4170410d33",
            "e5c659fae05b4dc09c6e13b12fd2ef21",
            "de0e6296925f4794b4424be0e0743860",
            "4cd9e1c8e8e747f9aada6cd0ea465362",
            "a5bf30732215490bad68431796185ee4",
            "6ef364ee90c647e4aed4dc66d67f7383",
            "e71dfe8c2e4f4c7eaa80695ef20c5a31",
            "7ce88a94f0a44dadaf1f9fd822d270e2",
            "2172d71fd2ec4fb0ae3cf59b3709aba2",
            "2838588431dc4d44a5aed1744d0bcbda",
            "3ef31c8ffd724fc6a1c654455bed69d2",
            "0fb9aa6417754b5e9d5cabdbce978929",
            "612da65d36234bef9d9a617db87b84fd",
            "4e665722abcb400a8ced8ff2a0df6e09",
            "3056e2b2a56d425686da4d5072fd7b4f",
            "74e7ad68240e4e7e993450824e3512d6"
          ]
        },
        "id": "twxa5Y2qaGYs",
        "outputId": "e586a2b3-0670-4b60-bd32-a20abe3083f3"
      },
      "source": [
        "model = PegasusForConditionalGeneration.from_pretrained(model_name).to(torch_device)"
      ],
      "execution_count": 17,
      "outputs": [
        {
          "output_type": "display_data",
          "data": {
            "application/vnd.jupyter.widget-view+json": {
              "model_id": "63f7f665bb74475994074f4170410d33",
              "version_minor": 0,
              "version_major": 2
            },
            "text/plain": [
              "HBox(children=(FloatProgress(value=0.0, description='Downloading', max=1362.0, style=ProgressStyle(description…"
            ]
          },
          "metadata": {
            "tags": []
          }
        },
        {
          "output_type": "stream",
          "text": [
            "\n"
          ],
          "name": "stdout"
        },
        {
          "output_type": "display_data",
          "data": {
            "application/vnd.jupyter.widget-view+json": {
              "model_id": "2172d71fd2ec4fb0ae3cf59b3709aba2",
              "version_minor": 0,
              "version_major": 2
            },
            "text/plain": [
              "HBox(children=(FloatProgress(value=0.0, description='Downloading', max=2275329241.0, style=ProgressStyle(descr…"
            ]
          },
          "metadata": {
            "tags": []
          }
        },
        {
          "output_type": "stream",
          "text": [
            "\n"
          ],
          "name": "stdout"
        }
      ]
    },
    {
      "cell_type": "code",
      "metadata": {
        "id": "CHuCkn2haLly"
      },
      "source": [
        "model_pickle=pickle.dumps(model)"
      ],
      "execution_count": 18,
      "outputs": []
    },
    {
      "cell_type": "code",
      "metadata": {
        "id": "dr-tXb2xadCg"
      },
      "source": [
        "input1=[\"As the first step, one needs to visit the GitHub repository and follow the steps mentioned in the documentation to install the library and download the model checkpoints. Be cautious about the way you install gsutil, as in linux distributions, some other package gets installed. The documentation is now updated so just make sure that you read through the steps cautiously. The input needs to be a .tfrecord. So let’s just see how we are going to create our input data. The following piece of code ought to do it for you. Just one thing to take care of here, make sure the .tfrecord is saved inside the testdata directory, which is inside pegasus/data/.In the gist above you will see that the targets are also passed. The list target is supposed to be the actual summary or the ground truth. Since we are only trying to generate summaries from the model and not train it, you can pass empty strings, but we can’t omit it because the model expects input in that format.\"]"
      ],
      "execution_count": 19,
      "outputs": []
    },
    {
      "cell_type": "code",
      "metadata": {
        "id": "8g76-es4clkZ"
      },
      "source": [
        "input2=[\"\"\"A turbocharger, colloquially known as a turbo, is a turbine-driven, forced induction device that increases an internal combustion engine's efficiency and power output by forcing extra compressed air into the combustion chamber.[1][2] This improvement over a naturally aspirated engine's power output is because the compressor can force more air—and proportionately more fuel—into the combustion chamber than atmospheric pressure (and for that matter, ram air intakes) alone.\"\"\",\r\n",
        "\r\n",
        "\"\"\"Turbochargers were originally known as turbosuperchargers when all forced induction devices were classified as superchargers. Today, the term \"supercharger\" is typically applied only to mechanically driven forced induction devices. The key difference between a turbocharger and a conventional supercharger is that a supercharger is mechanically driven by the engine, often through a belt connected to the crankshaft, whereas a turbocharger is powered by a turbine driven by the engine's exhaust gas. Compared with a mechanically driven supercharger, turbochargers tend to be more efficient, but less responsive. Twincharger refers to an engine with both a supercharger and a turbocharger.The 1905[4] patent by Alfred Büchi, a Swiss engineer working at Gebrüder Sulzer (now simply called Sulzer) is often considered the birth of the turbocharger.[5][6] This patent was for a compound radial engine with an exhaust-driven axial flow turbine and compressor mounted on a common shaft.[7][8] The first prototype was finished in 1915 with the aim of overcoming the power loss experienced by aircraft engines due to the decreased density of air at high altitudes.[9][10] However, the prototype was not reliable and did not reach production.[9] Another early patent for turbochargers was applied for in 1916 by French steam turbine inventor Auguste Rateau, for their intended use on the Renault engines used by French fighter planes.[7][11] Separately, 1917 testing by the American National Advisory Committee for Aeronautics and Sanford Alexander Moss showed that a turbocharger could enable an engine to avoid any power loss (compared with the power produced at sea level) at an altitude of up to 4,250 m (13,944 ft) above sea level.[7] The testing was conducted at Pikes Peak in the United States using the V12 Liberty aircraft engine.[11]\"\"\",\r\n",
        "\r\n",
        "\"\"\"The first commercial application of a turbocharger was in 1925, when Alfred Büchi successfully installed turbochargers on ten-cylinder diesel engines, increasing the power output from 1,300 to 1,860 kilowatts (1,750 to 2,500 hp).[12][13][14] This engine was used by the German Ministry of Transport for two large passenger ships called the \"Preussen\" and \"Hansestadt Danzig\". The design was licensed to several manufacturers and turbochargers began to be used in marine, railcar and large stationary applications.[10]\"\"\",\r\n",
        "\r\n",
        "\"\"\"Turbochargers were used on several aircraft engines during World War II, beginning with the Boeing B-17 Flying Fortress in 1938, which used turbochargers produced by General Electric.[7][15] Other early turbocharged airplanes included the B-24 Liberator, P-38 Lightning, P-47 Thunderbolt and the experimental Focke-Wulf Fw 190 prototypes.\"\"\",\r\n",
        "\r\n",
        "\"\"\"Automobile and truck manufacturers began research into turbocharged engines during the 1950s, however the problems of \"turbo lag\" and the bulky size of the turbocharger were not able to be solved at the time.[5][10] The first turbocharged cars were the short-lived Chevrolet Corvair Monza and the Oldsmobile Jetfire, introduced in 1962.[16] Following the 1973 oil crisis and the 1977 Clean Air Act amendments, turbocharging became more common in automobiles, as a method to reduce fuel consumption and exhaust emissions.\"\"\"]"
      ],
      "execution_count": 29,
      "outputs": []
    },
    {
      "cell_type": "code",
      "metadata": {
        "id": "-VFFFePKbPPj"
      },
      "source": [
        "tokenizer_unpickled=pickle.loads(tokenizer_pickle)"
      ],
      "execution_count": 22,
      "outputs": []
    },
    {
      "cell_type": "code",
      "metadata": {
        "id": "SH8_hi6kboD8"
      },
      "source": [
        "batch = tokenizer_unpickled.prepare_seq2seq_batch(input2, truncation=True, padding='longest', return_tensors=\"pt\", max_length=200).to(torch_device)"
      ],
      "execution_count": 30,
      "outputs": []
    },
    {
      "cell_type": "code",
      "metadata": {
        "id": "xhhqxRWub9aX"
      },
      "source": [
        "model_unpickled = pickle.loads(model_pickle)"
      ],
      "execution_count": 25,
      "outputs": []
    },
    {
      "cell_type": "code",
      "metadata": {
        "id": "a75HVrJ6b4_x"
      },
      "source": [
        "translated = model_unpickled.generate(**batch)"
      ],
      "execution_count": 31,
      "outputs": []
    },
    {
      "cell_type": "code",
      "metadata": {
        "id": "T5Xmvp4wcTD2"
      },
      "source": [
        "output1 = tokenizer_unpickled.batch_decode(translated, skip_special_tokens=True)"
      ],
      "execution_count": 32,
      "outputs": []
    },
    {
      "cell_type": "code",
      "metadata": {
        "colab": {
          "base_uri": "https://localhost:8080/"
        },
        "id": "KxogTeI_cbLh",
        "outputId": "80589831-8441-4558-de7f-cf80d8ce9ab7"
      },
      "source": [
        "print(output1)"
      ],
      "execution_count": 33,
      "outputs": [
        {
          "output_type": "stream",
          "text": [
            "['A new type of turbocharger has been unveiled at the North American International Auto Show in Detroit.', 'turbocharger refers to an engine with a turbocharger.', 'turbochargers are used to increase the power output of engines.', 'The history of turbochargers and their use in aircraft engines goes back more than 70 years.', 'Turbocharging is the process of adding a turbocharger to an engine to increase power and reduce fuel consumption.']\n"
          ],
          "name": "stdout"
        }
      ]
    },
    {
      "cell_type": "code",
      "metadata": {
        "colab": {
          "base_uri": "https://localhost:8080/"
        },
        "id": "UGRckz6JrWv9",
        "outputId": "77702928-3e38-4ef1-b1c8-62c4c9882655"
      },
      "source": [
        "!pip install flask-ngrok"
      ],
      "execution_count": 34,
      "outputs": [
        {
          "output_type": "stream",
          "text": [
            "Collecting flask-ngrok\n",
            "  Downloading https://files.pythonhosted.org/packages/af/6c/f54cb686ad1129e27d125d182f90f52b32f284e6c8df58c1bae54fa1adbc/flask_ngrok-0.0.25-py3-none-any.whl\n",
            "Requirement already satisfied: Flask>=0.8 in /usr/local/lib/python3.6/dist-packages (from flask-ngrok) (1.1.2)\n",
            "Requirement already satisfied: requests in /usr/local/lib/python3.6/dist-packages (from flask-ngrok) (2.23.0)\n",
            "Requirement already satisfied: click>=5.1 in /usr/local/lib/python3.6/dist-packages (from Flask>=0.8->flask-ngrok) (7.1.2)\n",
            "Requirement already satisfied: Werkzeug>=0.15 in /usr/local/lib/python3.6/dist-packages (from Flask>=0.8->flask-ngrok) (1.0.1)\n",
            "Requirement already satisfied: itsdangerous>=0.24 in /usr/local/lib/python3.6/dist-packages (from Flask>=0.8->flask-ngrok) (1.1.0)\n",
            "Requirement already satisfied: Jinja2>=2.10.1 in /usr/local/lib/python3.6/dist-packages (from Flask>=0.8->flask-ngrok) (2.11.3)\n",
            "Requirement already satisfied: idna<3,>=2.5 in /usr/local/lib/python3.6/dist-packages (from requests->flask-ngrok) (2.10)\n",
            "Requirement already satisfied: urllib3!=1.25.0,!=1.25.1,<1.26,>=1.21.1 in /usr/local/lib/python3.6/dist-packages (from requests->flask-ngrok) (1.24.3)\n",
            "Requirement already satisfied: certifi>=2017.4.17 in /usr/local/lib/python3.6/dist-packages (from requests->flask-ngrok) (2020.12.5)\n",
            "Requirement already satisfied: chardet<4,>=3.0.2 in /usr/local/lib/python3.6/dist-packages (from requests->flask-ngrok) (3.0.4)\n",
            "Requirement already satisfied: MarkupSafe>=0.23 in /usr/local/lib/python3.6/dist-packages (from Jinja2>=2.10.1->Flask>=0.8->flask-ngrok) (1.1.1)\n",
            "Installing collected packages: flask-ngrok\n",
            "Successfully installed flask-ngrok-0.0.25\n"
          ],
          "name": "stdout"
        }
      ]
    },
    {
      "cell_type": "code",
      "metadata": {
        "id": "LvoowZkAr95i"
      },
      "source": [
        "from flask import Flask"
      ],
      "execution_count": 35,
      "outputs": []
    },
    {
      "cell_type": "code",
      "metadata": {
        "id": "8l4FDX_TsGt0"
      },
      "source": [
        "from flask_ngrok import run_with_ngrok "
      ],
      "execution_count": 36,
      "outputs": []
    },
    {
      "cell_type": "code",
      "metadata": {
        "colab": {
          "base_uri": "https://localhost:8080/"
        },
        "id": "erIHV6R8sQJD",
        "outputId": "78a1dcb4-7619-420a-bc0b-d9cabe1ef824"
      },
      "source": [
        "app = Flask(__name__) \r\n",
        "run_with_ngrok(app)    \r\n",
        "  \r\n",
        "@app.route(\"/\") \r\n",
        "def home(): \r\n",
        "    return \"<h1>Hi</h1>\"\r\n",
        "    \r\n",
        "app.run()"
      ],
      "execution_count": 38,
      "outputs": [
        {
          "output_type": "stream",
          "text": [
            " * Serving Flask app \"__main__\" (lazy loading)\n",
            " * Environment: production\n",
            "\u001b[31m   WARNING: This is a development server. Do not use it in a production deployment.\u001b[0m\n",
            "\u001b[2m   Use a production WSGI server instead.\u001b[0m\n",
            " * Debug mode: off\n"
          ],
          "name": "stdout"
        },
        {
          "output_type": "stream",
          "text": [
            " * Running on http://127.0.0.1:5000/ (Press CTRL+C to quit)\n"
          ],
          "name": "stderr"
        },
        {
          "output_type": "stream",
          "text": [
            " * Running on http://d8dcae2e6aa6.ngrok.io\n",
            " * Traffic stats available on http://127.0.0.1:4040\n"
          ],
          "name": "stdout"
        }
      ]
    },
    {
      "cell_type": "code",
      "metadata": {
        "id": "4JxhGmMbaRbW"
      },
      "source": [
        "batch = tokenizer.prepare_seq2seq_batch(input1, truncation=True, padding='longest', return_tensors=\"pt\", max_length=200).to(torch_device)"
      ],
      "execution_count": 21,
      "outputs": []
    },
    {
      "cell_type": "code",
      "metadata": {
        "id": "ra6XhT2zQHL0"
      },
      "source": [
        "src_text=[\"As the first step, one needs to visit the GitHub repository and follow the steps mentioned in the documentation to install the library and download the model checkpoints. Be cautious about the way you install gsutil, as in linux distributions, some other package gets installed. The documentation is now updated so just make sure that you read through the steps cautiously. The input needs to be a .tfrecord. So let’s just see how we are going to create our input data. The following piece of code ought to do it for you. Just one thing to take care of here, make sure the .tfrecord is saved inside the testdata directory, which is inside pegasus/data/.In the gist above you will see that the targets are also passed. The list target is supposed to be the actual summary or the ground truth. Since we are only trying to generate summaries from the model and not train it, you can pass empty strings, but we can’t omit it because the model expects input in that format.\"]"
      ],
      "execution_count": null,
      "outputs": []
    },
    {
      "cell_type": "code",
      "metadata": {
        "id": "ugYyOvJzQ5k9"
      },
      "source": [
        "src_text1=[ \"\"\" Recent work pre-training Transformers with self-supervised objectives on large text corpora has shown great success when fine-tuned on downstream NLP tasks including text summarization. However, pre-training objectives tailored for abstractive text summarization have not been explored. Furthermore there is a lack of systematic evaluation across diverse domains. In this work, we propose pre-training large Transformer-based encoder-decoder models on massive text corpora with a new self-supervised objective. In PEGASUS, important sentences are removed/masked from an input document and are generated together as one output sequence from the remaining sentences, similar to an extractive summary. We evaluated our best PEGASUS model on 12 downstream summarization tasks spanning news, science, stories, instructions, emails, patents, and legislative bills. Experiments demonstrate it achieves state-of-the-art performance on all 12 downstream datasets measured by ROUGE scores. Our model also shows surprising performance on low-resource summarization, surpassing previous state-of-the-art results on 6 datasets with only 1000 examples.\"\"\",\r\n",
        "    \"\"\" Bidders had until 23 January to register an interest in the former Devonport-based ships. The BBC understands no proposals to preserve the ships have been submitted. Those who have registered an interest are finalising their bids with viewings set to take place in late February and March. A final decision is not expected until the spring. The government's Disposal Services Authority, which is handling the sale, wants to award at least one of the frigates to a UK ship recycler to determine the capacity of the UK's industry in the field. Penny Mordaunt, Conservative MP for Portsmouth North, said it was important UK recyclers had the chance to prove themselves in the field but she was also keen to see at least one of them saved from the scrapyard. She added: \"For anyone that has served on a ship it's your home, you've literally been through the wars with it... and you want them to have a noble second life. \"My preference is to go for the reef and diving attraction. \"We've got to get best value for the budget but a reef would also generate income for part of the country through tourism.\" The Ministry of Defence has previously said it will \"consider all options\" for the frigates to ensure \"best financial return for the taxpayer\". A spokeswoman would not comment on the number or nature of the bids received due to \"commercial sensitivity\". Originally designed as a specialist anti-submarine ship, the Type 22 frigate evolved into a powerful surface combatant with substantial anti-surface, anti-submarine and anti-aircraft weapons systems. They were also known for having excellent command and control, and communication facilities, making them ideal flagships on deployments, with a complement of about 280 crew. Last year, the aircraft carrier HMS Ark Royal was sold as scrap for £3m.\"\"\",\r\n",
        "    \"\"\" I am currently a MS by Research (Data Science) student in the Web Science Lab at the International Institute of Information Technology, Bangalore, India (IIIT Bangalore) working with Prof. Srinath Srinivasa and Prof. G Srinivasaraghavan. My area of interests are Natural Language Understanding and Generation, Information Retrieval, Unsupervised Machine Learning and Reinforcement Learning. Currently I am working on the problem of Text Summarization as a part of my thesis. I am funded by the Mphasis Foundation. \"\"\"]"
      ],
      "execution_count": null,
      "outputs": []
    },
    {
      "cell_type": "code",
      "metadata": {
        "id": "36xHDGAzQ1Gr"
      },
      "source": [
        "src_text2=[\"\"\"A turbocharger, colloquially known as a turbo, is a turbine-driven, forced induction device that increases an internal combustion engine's efficiency and power output by forcing extra compressed air into the combustion chamber.[1][2] This improvement over a naturally aspirated engine's power output is because the compressor can force more air—and proportionately more fuel—into the combustion chamber than atmospheric pressure (and for that matter, ram air intakes) alone.\"\"\",\r\n",
        "\r\n",
        "\"\"\"Turbochargers were originally known as turbosuperchargers when all forced induction devices were classified as superchargers. Today, the term \"supercharger\" is typically applied only to mechanically driven forced induction devices. The key difference between a turbocharger and a conventional supercharger is that a supercharger is mechanically driven by the engine, often through a belt connected to the crankshaft, whereas a turbocharger is powered by a turbine driven by the engine's exhaust gas. Compared with a mechanically driven supercharger, turbochargers tend to be more efficient, but less responsive. Twincharger refers to an engine with both a supercharger and a turbocharger.The 1905[4] patent by Alfred Büchi, a Swiss engineer working at Gebrüder Sulzer (now simply called Sulzer) is often considered the birth of the turbocharger.[5][6] This patent was for a compound radial engine with an exhaust-driven axial flow turbine and compressor mounted on a common shaft.[7][8] The first prototype was finished in 1915 with the aim of overcoming the power loss experienced by aircraft engines due to the decreased density of air at high altitudes.[9][10] However, the prototype was not reliable and did not reach production.[9] Another early patent for turbochargers was applied for in 1916 by French steam turbine inventor Auguste Rateau, for their intended use on the Renault engines used by French fighter planes.[7][11] Separately, 1917 testing by the American National Advisory Committee for Aeronautics and Sanford Alexander Moss showed that a turbocharger could enable an engine to avoid any power loss (compared with the power produced at sea level) at an altitude of up to 4,250 m (13,944 ft) above sea level.[7] The testing was conducted at Pikes Peak in the United States using the V12 Liberty aircraft engine.[11]\"\"\",\r\n",
        "\r\n",
        "\"\"\"The first commercial application of a turbocharger was in 1925, when Alfred Büchi successfully installed turbochargers on ten-cylinder diesel engines, increasing the power output from 1,300 to 1,860 kilowatts (1,750 to 2,500 hp).[12][13][14] This engine was used by the German Ministry of Transport for two large passenger ships called the \"Preussen\" and \"Hansestadt Danzig\". The design was licensed to several manufacturers and turbochargers began to be used in marine, railcar and large stationary applications.[10]\"\"\",\r\n",
        "\r\n",
        "\"\"\"Turbochargers were used on several aircraft engines during World War II, beginning with the Boeing B-17 Flying Fortress in 1938, which used turbochargers produced by General Electric.[7][15] Other early turbocharged airplanes included the B-24 Liberator, P-38 Lightning, P-47 Thunderbolt and the experimental Focke-Wulf Fw 190 prototypes.\"\"\",\r\n",
        "\r\n",
        "\"\"\"Automobile and truck manufacturers began research into turbocharged engines during the 1950s, however the problems of \"turbo lag\" and the bulky size of the turbocharger were not able to be solved at the time.[5][10] The first turbocharged cars were the short-lived Chevrolet Corvair Monza and the Oldsmobile Jetfire, introduced in 1962.[16] Following the 1973 oil crisis and the 1977 Clean Air Act amendments, turbocharging became more common in automobiles, as a method to reduce fuel consumption and exhaust emissions.\"\"\"]"
      ],
      "execution_count": null,
      "outputs": []
    },
    {
      "cell_type": "code",
      "metadata": {
        "id": "kyEeee_2eZ3p"
      },
      "source": [
        "src_text3=[\"An on engine oil seal leak and blowby test, LTR #20071072 was conducted on the GM2010 model year Beta 1 series sequential system machined to worst case HP and LP dynamic ring seal clearances in Torrance+motoring engine cell 9 using the 2006 model year GM 6.6L Duramax diesel engine and 2006 model year ECU. Data from a total of 471 steady state points were evaluated using various engine speeds, engine loads (including motoring), TBV positions, LP WG positions, and HP vane positions to simulate the entire operating range of the engine. At these steady state points, the oil pressure and air pressure were recorded before and after each wheel's dynamic ring seal(s). The worst points were chosen and run with different oil pressures and temperatures to simulate warm and cold conditions at steady state for 15 minutes and visually inspected for oil seal leakage between each dwell. Of the 20 points that were run for worst case seal leakage, 5 steady state points were found to have leaks. Of these 5 points, 4 were caused at cold oil conditions where oil pressure was run at a worst case of 75psiG. The only point of warm oil leakage occurred at the HP compressor seal where the HP turbocharger speed was too low. All of the oil seal leakage points are avoidable and discussed in more detail within the report. 18 of the worst case steady state points were also evaluated for blowby into the HP and LP center housing oil drain passages. The highest value of blowby recorded was 1.57 CFM at 2400eRPM, 485 ft lb engine load.\"]"
      ],
      "execution_count": null,
      "outputs": []
    },
    {
      "cell_type": "code",
      "metadata": {
        "id": "M5bhYoJwrCms"
      },
      "source": [
        "src_text4=[\"1 series sequential system machined to worst case HP and LP dynamic ring seal clearances in Torrance motoring engine cell 9 using the 2006 model year GM 6.6L Duramax diesel engine and 2006 model year ECU. Data from a total of 471 steady state points were evaluated using various engine speeds, engine loads (including motoring), TBV positions, LP WG positions, and HP vane positions to simulate the entire operating range of the engine. At these steady state points, the oil pressure and air pressure were recorded before and after each wheel’s dynamic ring seal(s). The worst points were chosen and run with different oil pressures and temperatures to simulate warm and cold conditions at steady state for 15 minutes and visually inspected for oil seal leakage between each dwell.Of the 20 points that were run for worst case seal leakage, 5 steady state points were found to have leaks. Of these 5 points, 4 were caused at cold oil conditions where oil pressure was run at a worst case of 75psiG. The only point of warm oil leakage occurred at the HP compressor seal where the HP turbocharger speed was too low. All of the oil seal leakage points are avoidable and discussed in more detail within the report. 18 of the worst case steady state points were also evaluated for blowby into the HP and LP center housing oil drain passages. The highest value of blowby recorded was 1.57 CFM at 2400eRPM, 485 ft lb engine load. \"]"
      ],
      "execution_count": null,
      "outputs": []
    },
    {
      "cell_type": "code",
      "metadata": {
        "id": "PNcI-HWXQe3o"
      },
      "source": [
        "batch = tokenizer.prepare_seq2seq_batch(src_text4, truncation=True, padding='longest', return_tensors=\"pt\", max_length=200).to(torch_device)\r\n",
        "translated = model.generate(**batch)\r\n",
        "tgt_text = tokenizer.batch_decode(translated, skip_special_tokens=True)"
      ],
      "execution_count": null,
      "outputs": []
    },
    {
      "cell_type": "code",
      "metadata": {
        "id": "PmBlaK3PPt2e"
      },
      "source": [
        "batch = tokenizer.prepare_seq2seq_batch(src_text2, truncation=True, padding='longest', return_tensors=\"pt\").to(torch_device)\r\n",
        "translated = model.generate(**batch)\r\n",
        "tgt_text2 = tokenizer.batch_decode(translated, skip_special_tokens=True)"
      ],
      "execution_count": null,
      "outputs": []
    },
    {
      "cell_type": "code",
      "metadata": {
        "colab": {
          "base_uri": "https://localhost:8080/"
        },
        "id": "0b6VwLeLQlb6",
        "outputId": "9b5e0418-eef7-4e06-9f64-5a0c097eeb5f"
      },
      "source": [
        "print(tgt_text2)"
      ],
      "execution_count": null,
      "outputs": [
        {
          "output_type": "stream",
          "text": [
            "['A new type of turbocharger has been unveiled at the North American International Auto Show in Detroit.', 'A turbocharger is a device used to boost the efficiency of an engine.', 'turbochargers are used to increase the power output of engines.', 'The history of turbochargers and their use in aircraft engines goes back more than 70 years.', 'Turbocharging is the process of adding a turbocharger to an engine to increase power and reduce fuel consumption.']\n"
          ],
          "name": "stdout"
        }
      ]
    },
    {
      "cell_type": "code",
      "metadata": {
        "colab": {
          "base_uri": "https://localhost:8080/"
        },
        "id": "-07ym57JQuCZ",
        "outputId": "2a878fc1-a12f-4aa2-e2ca-f3268e8b120a"
      },
      "source": [
        "print(tgt_text)"
      ],
      "execution_count": null,
      "outputs": [
        {
          "output_type": "stream",
          "text": [
            "['The purpose of this study was to investigate oil seal leakage between steady state points in a 6.6L diesel engine.']\n"
          ],
          "name": "stdout"
        }
      ]
    },
    {
      "cell_type": "code",
      "metadata": {
        "colab": {
          "base_uri": "https://localhost:8080/",
          "height": 116,
          "referenced_widgets": [
            "c2ca0508fbfb4effa3ce52c4f21c9ec3",
            "c19385f70c354f7e99ff09b49d474dbc",
            "28066b4655a440e5aa18074c69fa0e87",
            "ca3d6a98d1744f2dae8ea521f70a8a6a",
            "aab7ff60da8c4e8b98dd0e18df26061b",
            "1834a2fcadb4475c813968f782de5ee9",
            "e1761e777c5a4941afb62345bf531d5c",
            "0b9db7ed48ba4d4798b86650390ece6f",
            "e59ffc8186e642ccba4b913129d15ecc",
            "b73c3e9c389846c6afa1297d5a797697",
            "a03a7877843447c89d8ba1b97fdfab13",
            "0e5d7fba78a34f5691890993a9166432",
            "53ef703dd28b4a66940f1e58782b53ac",
            "ad73e7fd351a4a608f7744a5b6a8971f",
            "2a5885564412498a9828d64f3f300582",
            "d2626fc3163e4829a3d742f50e473fd3"
          ]
        },
        "id": "9TbNIVmFNEYz",
        "outputId": "38d1a2da-c0f5-4879-896e-070c9dc778e5"
      },
      "source": [
        "model = PegasusForConditionalGeneration.from_pretrained(model_name).to(torch_device)"
      ],
      "execution_count": null,
      "outputs": [
        {
          "output_type": "display_data",
          "data": {
            "application/vnd.jupyter.widget-view+json": {
              "model_id": "c2ca0508fbfb4effa3ce52c4f21c9ec3",
              "version_minor": 0,
              "version_major": 2
            },
            "text/plain": [
              "HBox(children=(FloatProgress(value=0.0, description='Downloading', max=1362.0, style=ProgressStyle(description…"
            ]
          },
          "metadata": {
            "tags": []
          }
        },
        {
          "output_type": "stream",
          "text": [
            "\n"
          ],
          "name": "stdout"
        },
        {
          "output_type": "display_data",
          "data": {
            "application/vnd.jupyter.widget-view+json": {
              "model_id": "e59ffc8186e642ccba4b913129d15ecc",
              "version_minor": 0,
              "version_major": 2
            },
            "text/plain": [
              "HBox(children=(FloatProgress(value=0.0, description='Downloading', max=2275329241.0, style=ProgressStyle(descr…"
            ]
          },
          "metadata": {
            "tags": []
          }
        },
        {
          "output_type": "stream",
          "text": [
            "\n"
          ],
          "name": "stdout"
        }
      ]
    },
    {
      "cell_type": "code",
      "metadata": {
        "id": "3PiJSwQB00oz"
      },
      "source": [
        "doc1_text=[\"\"\"An on engine oil seal leak and blowby test, LTR #20071072 was conducted on the GM2010 model year Beta\r\n",
        "1 series sequential system machined to worst case HP and LP dynamic ring seal clearances in Torrance\r\n",
        "motoring engine cell 9 using the 2006 model year GM 6.6L Duramax diesel engine and 2006 model year\r\n",
        "ECU.\"\"\",\r\n",
        "\r\n",
        "\"\"\"Data from a total of 471 steady state points were evaluated using various engine speeds, engine loads\r\n",
        "(including motoring), TBV positions, LP WG positions, and HP vane positions to simulate the entire\r\n",
        "operating range of the engine. At these steady state points, the oil pressure and air pressure were recorded\r\n",
        "before and after each wheel’s dynamic ring seal(s). \"\"\",\r\n",
        "\r\n",
        "\"\"\"The worst points were chosen and run with different oil pressures and temperatures to simulate warm and\r\n",
        "cold conditions at steady state for 15 minutes and visually inspected for oil seal leakage between each dwell.\r\n",
        "Of the 20 points that were run for worst case seal leakage, 5 steady state points were found to have leaks. Of\r\n",
        "these 5 points, 4 were caused at cold oil conditions where oil pressure was run at a worst case of 75psiG. The\r\n",
        "only point of warm oil leakage occurred at the HP compressor seal where the HP turbocharger speed was too\r\n",
        "low. All of the oil seal leakage points are avoidable and discussed in more detail within the report.18 of the worst case steady state points were also evaluated for blowby into the HP and LP center housing oil\r\n",
        "drain passages. The highest value of blowby recorded was 1.57 CFM at 2400eRPM, 485 ft lb engine load. \"\"\",\r\n",
        "\"\"\"The purpose of this test is to evaluate worst case oil seal leak and blowby using max piston ring end gap and\r\n",
        "side clearances on both the HP and LP turbochargers. This will help determine what operating points should\r\n",
        "be avoided to prevent oil seal leakage and also determine the highest blowby values and where they occur.\"\"\",\r\n",
        "\"\"\"Oil Seal Leakage5 steady state dwell points tested had oil seal leakage. 4 of these points had oil seal leakage from high cold\r\n",
        "oil pressures and 1 point had warm oil seal leakage due to insufficient HP turbo speed.\r\n",
        "BlowbyThe highest measured blowby was 1.57CFM and occurred at 2400eRPM and 485 ft lb load when operating\r\n",
        "off of the LP stage. \"\"\"\r\n",
        "\r\n",
        "\r\n",
        "\"\"\"The first part of the test consisted of running various steady state points while varying engine speed, engine\r\n",
        "load, TBV position, HP vane position and LP WG position to evaluate the entire operating range of the\r\n",
        "engine. This was done with machined hardware that had pressure lines installed behind the HP/LP turbine\r\n",
        "wheels, HP/LP compressor wheels, HP/LP turbine oil passages and HP/LP compressor oil passages. A total\r\n",
        "of 471 steady state points were run and pressure data was recorded for those points. \"\"\",\r\n",
        "\"\"\"The second part of the test was to dwell for 15 minutes at the worst seal leak (lowest air pressures behind\r\n",
        "wheels and highest oil pressures behind ring seals) and worst blowby points (highest air pressures behind\r\n",
        "wheels and lowest oil pressures behind ring seals both individual and combined) identified during the steady\r\n",
        "state mapping. After each oil seal leak dwell, the hardware was visually inspected for leaks. For all of the\r\n",
        "dwell testing, hardware with no pressure lines and max clearance piston ring end gap and side clearances\r\n",
        "were used. \"\"\",\r\n",
        "\"\"\"All testing was done with a 20”H2O LP compressor inlet restriction that was constantly adjusted for different\r\n",
        "speed and load points1\r\n",
        ". Also, an external oil stand using 15W40 oil was used for both the oil seal leakage\r\n",
        "and blowby test to run a closed-loop turbocharger oil route. During the steady state mapping, the oil\r\n",
        "pressures and temperatures were held constant at 35psiG and 235ºF while for the dwell testing the oil\r\n",
        "pressures and temperatures were varied. The oil temperatures and pressure variations were taken from worst\r\n",
        "case empirical data. Turbocharger speeds were not recorded due to unresolved instrumentation issues. \"\"\",\r\n",
        "\"\"\"The oil drain for the HP turbo had a worst case angle of 15º from horizontal and the main oil drain (HP+LP)\r\n",
        "had a worst case angle of 10º from horizontal (MY06 factory drain is horizontal). In addition, the oil drain\r\n",
        "inner diameter was 57/64” and the oil inlet line diameter was 3/8”. \"\"\"\r\n",
        "\r\n",
        "\r\n",
        "];"
      ],
      "execution_count": null,
      "outputs": []
    },
    {
      "cell_type": "code",
      "metadata": {
        "id": "Il9edWmG2Tgt"
      },
      "source": [
        "batch = tokenizer.prepare_seq2seq_batch(doc1_text, truncation=True, padding='longest', return_tensors=\"pt\").to(torch_device)\r\n",
        "translated = model.generate(**batch)\r\n",
        "tgt_text2 = tokenizer.batch_decode(translated, skip_special_tokens=True)"
      ],
      "execution_count": null,
      "outputs": []
    },
    {
      "cell_type": "code",
      "metadata": {
        "colab": {
          "base_uri": "https://localhost:8080/"
        },
        "id": "JwhGO9Qs27Nw",
        "outputId": "0dc69bb7-1761-4f6e-bffc-b5c97e932041"
      },
      "source": [
        "print(tgt_text2)"
      ],
      "execution_count": null,
      "outputs": [
        {
          "output_type": "stream",
          "text": [
            "['An on engine oil seal leak and blowby test has been carried out on a Torrance motoring engine cell 9 using the 2006 model year GM 6.6L diesel engine and 2006 model ECU.', 'Oil pressure and air pressure measurements have been carried out on a Ferrari F50 engine.', 'The worst case steady state points for oil seal leakage were chosen and run with different oil pressures and temperatures to simulate warm and cold conditions at steady state for 15 minutes and visually inspected for oil seal leakage between each dwell.', 'The purpose of this test is to evaluate worst case oil seal leak and blowby using max piston ring end gap and side clearances on both the HP and LP turbochargers.', 'The results of this study are as follows:', 'The first part of the test was to dwell for 15 minutes at the lowest oil seal leak (lowest air pressures behind wheels and highest oil pressures behind ring seals) and worst blowby points (highest air pressures behind wheels and lowest oil pressures behind ring seals) identified during steady state mapping.', 'The results of this study are as follows:', 'The dimensions of the oil drain for the HP turbo and the main oil drain (HP+LP) for the MY06 factory are as follows:']\n"
          ],
          "name": "stdout"
        }
      ]
    },
    {
      "cell_type": "code",
      "metadata": {
        "id": "LQ4utDy63WmP"
      },
      "source": [
        "doc2_text=[\"\"\"The „zero delta P point“ represents the conditions where the pressure behind the compressor wheel and\r\n",
        "inside the center housing is equal. Any test point to the right of the „zero delta P point“ is considered a\r\n",
        "potential leak condition. \"\"\", \"\"\"A no-load motoring mode is most severe test condition in combination with a high inlet restriction.\r\n",
        "• The differential pressure was calculated based on the difference between the static pressure measurements\r\n",
        "behind the compressor wheel and the center housing internal pressure during motoring mode on engine. \"\"\", \r\n",
        "\r\n",
        "\"\"\"The „zero delta P point“ represents the conditions where the pressure behind the compressor wheel and inside the center housing is equal. Any test point to the right of the „zero delta P point“ is considered a potential leak condition.\r\n",
        " A no-load motoring mode is most severe test condition in combination with a high inlet restriction.\r\n",
        " The differential pressure was calculated based on the difference between the static pressure measurements behind the compressor wheel and the center housing internal pressure during motoring mode on engine.\r\n",
        " Raising the backplate surface to create compressor wheel to backplate step could move „zero delta P point“ and help in compressor seal leakage issue but effects aerodynamic performance and blowby\"\"\",\r\n",
        " \r\n",
        " \"\"\"• test was performed at engine test cell No. 8 on DAF\r\n",
        "engine under LTR No. 20071398\r\n",
        "• closed crank case ventilation at the engine used\r\n",
        "• on low pressure stage used turbo GT4702 P/N\r\n",
        "774877-0002\r\n",
        "• steel insert with different thickness added on the\r\n",
        "backplate was to simulate different position of\r\n",
        "compressor wheel Z-plane (CW to backplate step - x\r\n",
        "dimension)\r\n",
        "• aero performance was evaluated on gas stand with\r\n",
        "backplate casting machined to new thickness based\r\n",
        "on best combination results (LTR No. 20071710)\"\"\",\r\n",
        "\r\n",
        "\"\"\"Test conditions are as follows, engine inlet oil pressure 73.4 psig\r\n",
        "• turbo inlet oil pressure 61 psig\r\n",
        "• compressor inlet pressure at full load -27“H2 O\r\n",
        "• intake manifold inlet temperature 127F\r\n",
        "• new paper filter in crank case ventilation set before\r\n",
        "testing\r\n",
        "• pressure in the crankcase at full load not adjusted\r\n",
        "for each test\"\"\"];"
      ],
      "execution_count": null,
      "outputs": []
    },
    {
      "cell_type": "code",
      "metadata": {
        "id": "CKD4v2ZR4PmK"
      },
      "source": [
        "batch = tokenizer.prepare_seq2seq_batch(doc2_text, truncation=True, padding='longest', return_tensors=\"pt\").to(torch_device)\r\n",
        "translated = model.generate(**batch)\r\n",
        "tgt_text3 = tokenizer.batch_decode(translated, skip_special_tokens=True)"
      ],
      "execution_count": null,
      "outputs": []
    },
    {
      "cell_type": "code",
      "metadata": {
        "colab": {
          "base_uri": "https://localhost:8080/"
        },
        "id": "d9dAFOdM4s7f",
        "outputId": "3bbed63b-bd3f-497e-ab7b-09f35d9b0ab8"
      },
      "source": [
        "print(tgt_text3)"
      ],
      "execution_count": null,
      "outputs": [
        {
          "output_type": "stream",
          "text": [
            "['The zero delta P point“ is the lowest pressure point on the compressor wheel.', 'The differential pressure during a no-load motoring mode has been measured at a pressure station in Germany.', 'This study shows that raising the compressor wheel to backplate step could help in compressor seal leakage issue but effects aerodynamic performance and blowby. Raising the backplate surface to create compressor wheel to backplate step could move zero delta P point“ and help in compressor seal leakage issue but effects aerodynamic performance and blow', 'The aerodynamic performance of a new DAF GT4702 turbocharger has been evaluated in a series of tests.', 'The following tests have been carried out on the new Ferrari F1 engine.']\n"
          ],
          "name": "stdout"
        }
      ]
    },
    {
      "cell_type": "code",
      "metadata": {
        "id": "HYxbMf8d4-gG"
      },
      "source": [
        "doc3_text=[\"\"\"The results of LTR 20080460 are presented. Three GTC1549VZ (T232, trim 84) turbochargers were tested\r\n",
        "on M47 E87 engine to monitor oil leak resistance at turbine side. Purposes are:\r\n",
        "- to qualify GTC1549VZ in turbine oil seal\r\n",
        "- to determine delta pressure across shaft head leading to oil leakage (product limit) \"\"\",\r\n",
        "\"\"\"Conclusions are:\r\n",
        "- GTC1549VZ loop 2 passed test on M47 engine according to PS-003-005\r\n",
        "- Product Development specific testing (TI-218 rev D) could not be run due to engine leak when\r\n",
        "increasing crankcase pressure. Hence the pressure differential at turbine seal that leads to leakage was\r\n",
        "not found \"\"\",\r\n",
        "\"\"\"Results are:\r\n",
        "- Dry CTH chamfer under following conditions:\r\n",
        "o opened vanes or closed vanes and oil supplied by oil group\r\n",
        "o opened vanes or closed vanes and oil supplied by engine\r\n",
        "- crankcase pressure could not be increased due to engine oil leakage at engine oil pressure gage\r\n",
        "- delta pressure across shaft head was measured but pressure behind wheel was not sound\r\n",
        "- GTB1446VZ (T232, trim 84) test results on F9Q from ER06-1032 showed similar results (no oil leak\r\n",
        "with closed vanes) but no pressure measurements \"\"\",\r\n",
        "\"\"\"Conclusions are:\r\n",
        "- GTC1549VZ loop 2 passed test on M47 engine according to PS-003-005\r\n",
        "- Product Development specific testing (TI218 revD) could not be run due to engine leak when\r\n",
        "increasing crankcase pressure. Hence the pressure differential at turbine seal that leads to leakage was\r\n",
        "not found. \"\"\",\r\n",
        "\"\"\"The results of LTR 20080460 are presented. Three GTC1549VZ (T232, trim 84) turbochargers were tested\r\n",
        "on M47 E87 engine to monitor oil leak resistance at turbine side. \r\n",
        "\"\"\"]"
      ],
      "execution_count": null,
      "outputs": []
    },
    {
      "cell_type": "code",
      "metadata": {
        "id": "XniYO6ru5c-C"
      },
      "source": [
        "batch = tokenizer.prepare_seq2seq_batch(doc3_text, truncation=True, padding='longest', return_tensors=\"pt\").to(torch_device)\r\n",
        "translated = model.generate(**batch)\r\n",
        "tgt_text4 = tokenizer.batch_decode(translated, skip_special_tokens=True)"
      ],
      "execution_count": null,
      "outputs": []
    },
    {
      "cell_type": "code",
      "metadata": {
        "colab": {
          "base_uri": "https://localhost:8080/"
        },
        "id": "mupclN5O5yoe",
        "outputId": "1063e259-1745-40a2-e6f1-10d6d8f1c7de"
      },
      "source": [
        "print(tgt_text4)"
      ],
      "execution_count": null,
      "outputs": [
        {
          "output_type": "stream",
          "text": [
            "['The purpose of this study was to test the oil leak resistance of turbochargers in the M47 E87 engine.', 'The test results for the GTC1549VZ loop 2 engine have been published.', 'The following cars have been subjected to a series of tests on dry CTH and engine oil pressure.', 'The test results for the GTC1549VZ loop 2 of the M47 engine have been published.', 'The turbochargers of the BMW M47 E87 engine have been subjected to a series of tests.']\n"
          ],
          "name": "stdout"
        }
      ]
    },
    {
      "cell_type": "code",
      "metadata": {
        "id": "gKWGtaEt8cil"
      },
      "source": [
        "doc4_text=[\"\"\"The results of LTR 20080100 and 20080462 are presented. Six GTC1549VZ (C224, T60) turbochargers\r\n",
        "were tested on M47 E87 engine to monitor oil leak resistance at compressor side. GTC1549VZ leakage P2C\r\n",
        "value was compared with GTB1446VZ leakage P2C value. GTB1446VZ (C224, T60) was tested on F9Q\r\n",
        "engine (ER06-0104). \"\"\",\r\n",
        "\"\"\"Two different GTC15 configurations were tested: one with standard thrust spacer (loop 1), the other one\r\n",
        "with a piston ring shift of 0.5mm toward compressor wheel (and the corresponding center housing, loop 2).\r\n",
        "All GTC15 bearings had four face pads, reduced oil flow and 10.0mm face pads diameter\"\"\",\r\n",
        "\"\"\"P2C leakage value was between:\r\n",
        "- 10kPa and 15kPa for all GTC1549VZ turbochargers\r\n",
        "- 7kPa and 10kPa for GTB1446VZ\r\n",
        "When delta pressure across thrust spacer was:\r\n",
        "- higher than 2.5kPa: no leakage of GTC1549VZ loop 1 turbochargers\r\n",
        "- higher than 1kPa: no leakage of GTC1549VZ loop 2 turbochargers\r\n",
        "- lower than 0.3kPa: leakage of GTC1549VZ loop 1 and 2 turbochargers\r\n",
        "No pressure data were recorded on GTB1446VZ turbochargers. \"\"\",\r\n",
        "\"\"\"All data requested by PS-003-006 were recorded (P2C and pressure at center housing oil outlet).\r\n",
        "Previous tests (LTR 20070863) showed that CW trim has a big impact on P2C at leakage (leakage P2C\r\n",
        "varies from 5kPa to 25kPa when trim varies from 60 to 45). Worst case trim is the smallest one. All\r\n",
        "GTC1549VZ turbochargers were tested with trim 60, i.e. the best case.\"\"\",\r\n",
        "\"\"\"The results of LTR 20080100 and 20080462 are presented. Six GTC1549VZ (C224, T60) turbochargers\r\n",
        "were tested on M47 E87 engine to monitor oil leak resistance at compressor side. GTC1549VZ leakage\r\n",
        "P2C value was compared with GTB1446VZ leakage P2C value. GTB1446VZ (C224, T60) was tested on\r\n",
        "F9Q engine (ER06-0104).\r\n",
        "Two different GTC15 configurations were tested: one with standard thrust spacer (loop 1), the other one\r\n",
        "with a piston ring shift of 0.5mm toward compressor wheel (and the corresponding center housing, loop 2).\r\n",
        "All GTC15 bearings had four face pads, reduced oil flow and 10.0mm face pads diameter. \"\"\"]"
      ],
      "execution_count": null,
      "outputs": []
    },
    {
      "cell_type": "code",
      "metadata": {
        "id": "Tr4XfiLK80PO"
      },
      "source": [
        "batch = tokenizer.prepare_seq2seq_batch(doc4_text, truncation=True, padding='longest', return_tensors=\"pt\").to(torch_device)\r\n",
        "translated = model.generate(**batch)\r\n",
        "tgt_text5 = tokenizer.batch_decode(translated, skip_special_tokens=True)"
      ],
      "execution_count": null,
      "outputs": []
    },
    {
      "cell_type": "code",
      "metadata": {
        "colab": {
          "base_uri": "https://localhost:8080/"
        },
        "id": "KFxGy7tZ9P7G",
        "outputId": "68513e64-708c-4540-9f6e-f602f481430e"
      },
      "source": [
        "print(tgt_text5)"
      ],
      "execution_count": null,
      "outputs": [
        {
          "output_type": "stream",
          "text": [
            "['turbochargers have been tested to monitor oil leak resistance at compressor side.', 'The GTC15 is a high-performance, low-cost centrifugal compressor designed for use in the oil and gas industry.', 'When delta pressure across turbochargers was higher than 2.5kPa: no leakage of GTC1549VZ loop 1 turbochargers - higher than 1kPa: no leakage of GTC1549VZ loop 2 turbochargers', 'All turbochargers were tested with trim 60, 45 and 60.', 'The purpose of this study is to investigate oil leak resistance at compressor side of turbochargers.']\n"
          ],
          "name": "stdout"
        }
      ]
    },
    {
      "cell_type": "code",
      "metadata": {
        "id": "uErDmXZf7LKi"
      },
      "source": [
        "pegasusText1=[\"\"\"A two-flow-passage type exhaust gas driven turbocharger, in which a scroll portion in a casing is divided by an annular partition to form two flow passages, the turbo-charger being constructed so that the difference between the temperature of the outer surface of the portion of the casing to which the partition is fixed and that of the partition can be minimized so as to reduce the thermal strain in the partition and thereby prevent thermal fatigue cracks from occurring therein.\"\"\",\r\n",
        "              \"\"\"This invention relates to a two-flow-passage type exhaust gas driven turbo-charger, and, more particularly, to a two-flow-passage type exhaust gas driven turbo-charger suitable for preventing the thermal fatigue destruction of a partition.\"\"\",\r\n",
        "              \"\"\"A two-flow-passage type exhaust gas driven turbo-charger is used for the purpose of improving the super-charging capability with respect to the low-speed rotation of an engine by utilizing exhaust pulses or narrowing of the flow passages so as to increase the flow rate of a gas.\"\"\",\r\n",
        "              \"\"\" In a turbo-charger of such a construction, a scroll casing is divided radially by a partition including an annular plate, in such a manner that the flow passages are independent of each other in an interior defined by an inner surface of the scroll casing. \"\"\",\r\n",
        "              \"\"\"A radial flow type turbine wheel is provided in the casing, and the supercharging of the engine is affected by a compressor connected to the turbine wheel. A flow passage valve is provided which is closed when the engine has a low rotational speed, to increase the flow rate of the gas due to the narrow passages. While the turbo-charger of this construction is in operation, the temperature of the partition becomes higher than those of other portions thereof due to the high-temperature gas, so that the turbo-charger is compression-plastically deformed. When this turbo-charger is not in operation, the temperatures of all parts thereof become uniform, so that a tensile stress occurs therein.\"\"\",\r\n",
        "              \"\"\"An object of the present invention is to provide a turbo-charger which is capable of preventing the thermal fatigue failure of a partition by minimizing a difference between the temperature of the partition and that of the outer surface of the portion of a casing to which the partition is fixed.\"\"\",\r\n",
        "              \"\"\"To achieve the above object, the invention provides a two-passage type exhaust gas driven turbo-charger in which the outer surface of the portion of a casing to which a partition is fixed is covered with a heat-insulating material to promote an increase in the temperature of this portion of the casing and thereby minimize temperature differential between the casing and the partition so as to prevent thermal fatigue failure of the partition caused by the thermal strain occurring therein.\"\"\",\r\n",
        "              \"\"\"According to the present invention a two-passage type exhaust gas driven turbo-charger is provided in which a thickness of a root portion of a partition is smaller than that of a free end portion thereof to thereby minimize the temperature differential between the temperature of a casing and that of the partition so that the thermal fatigue failure of partition caused by the thermal strain occurring therein can be prevented.\"\"\"];"
      ],
      "execution_count": null,
      "outputs": []
    },
    {
      "cell_type": "code",
      "metadata": {
        "id": "Oik874HM71zs"
      },
      "source": [
        "batch = tokenizer.prepare_seq2seq_batch(pegasusText1, truncation=True, padding='longest', return_tensors=\"pt\").to(torch_device)\r\n",
        "translated = model.generate(**batch)\r\n",
        "peg1 = tokenizer.batch_decode(translated, skip_special_tokens=True)"
      ],
      "execution_count": null,
      "outputs": []
    },
    {
      "cell_type": "code",
      "metadata": {
        "colab": {
          "base_uri": "https://localhost:8080/"
        },
        "id": "48Lb1lBo-jC2",
        "outputId": "e146ef19-7a5e-45a1-9e4b-3c7a3fdb3533"
      },
      "source": [
        "print(peg1)"
      ],
      "execution_count": null,
      "outputs": [
        {
          "output_type": "stream",
          "text": [
            "['A turbocharger, in which a scroll portion in a casing is divided by an annular partition to form two flow passages, the turbocharger being constructed so that the difference between the temperature of the outer surface of the portion of the casing to which the partition is fixed and that of the partition can be minimized so as to', 'An exhaust gas driven turbo-charger suitable for preventing the thermal fatigue destruction of a partition.', 'A turbo-charger is a device used to increase the power output of an engine.', 'The present invention relates to a turbo-charger with a scroll casing and more particularly to a turbo-charger with a scroll casing.', 'A turbo-charger is provided in the casing of a gas turbine engine, and a partition is provided between the turbo-charger and the casing.', 'A turbo-charger is provided which is capable of preventing the thermal fatigue failure of a partition by minimizing a difference between the temperature of the partition and that of the outer surface of the portion of a casing to which the partition is fixed.', 'The present invention relates to a turbo-charger and more particularly to an exhaust gas driven turbo-charger in which the outer surface of a casing to which a partition is fixed is covered with a heat-i material to promote an increase in the temperature of this portion of the casing so as to prevent thermal fatigue failure', 'A turbo-charger is provided in which a thickness of a root portion of a casing is smaller than that of a free end portion thereof to thereby minimize the temperature differential between the temperature of a casing and that of the partition so that the thermal fatigue failure of the partition caused by the thermal strain occurring therein can be']\n"
          ],
          "name": "stdout"
        }
      ]
    },
    {
      "cell_type": "code",
      "metadata": {
        "id": "s9Pt7ZZnCD7B"
      },
      "source": [
        "pegasusText2=[\"\"\"An oil sealing system for a turbo charger comprises a housing, a shaft rotatably supported by the housing via a bearing, a turbine-rotor fixed to one end of the shaft, a compressor-rotor fixed to the other end of the shaft, an oil conduit formed in the housing for supplying oil between the shaft and the bearing for lubrication, and an oil sealing device for preventing oil leakage to the turbine-rotor. The oil sealing device comprises, a depression and a drain formed in the housing, a ring-shaped depression and a groove formed on the shaft, and a seal-ring located between the housing and the groove.\"\"\",\r\n",
        "              \"\"\"The present invention relates to an oil sealing system for a turbo charger, and more particularly to an oil sealing system for a turbine side of a turbo charger.\"\"\",\r\n",
        "              \"\"\"A conventional oil sealing system for a turbo charger related to the present invention is disclosed in Japanese Utility model Patent Publication No. 41-1841 published on Feb. 10, 1966, and is shown in FIG. 6. There, a shaft 101 of a turbo charger 100 is rotatably supported in a bearing-housing 102 via bearings 103, 104 and a plate 105. The bearings 103, 104 are lubricated by oil which is supplied through a passage 107. The oil is discharged to an oil-pan (not shown) through a drain-port 113. The plate 105 has a ring-shaped flange portion 105a. A bushing 114 which is located around the shaft 101 has a screw 114a. The rotating direction of the screw 114a is formed against the rotating direction of the shaft 101. Plate 115 is located around the screw 114a.\"\"\",\r\n",
        "              \"\"\"A compressor-rotor 106 is fixed to an one end of the shaft 101, and a turbine-rotor (not shown) is fixed to the other end of the shaft 101. A rotor-housing 108 is fixed to the bearing-housing 102 by bolts 109, 110. The rotor-housing 108 has an inlet 111 and an outlet 112.\"\"\",\r\n",
        "              \"\"\"Oil which lubricates the bearings 103, 104 is drawn toward the outlet 112 by the negative pressure that is generated behind the compressor-rotor 106. The outlet 112 is connected to an intake manifold of an engine (not shown). Thus, it is necessary that the oil leaking is prevented.\"\"\",\r\n",
        "              \"\"\"However, this oil sealing system is complicated in construction. Manufacturing of the system requires many steps and involves relatively high costs.\r\n",
        "\r\n",
        "\r\n",
        "Accordingly, it is a primary object of the present invention to prevent lubricating oil from leaking in a turbo charger.\"\"\",\r\n",
        "\"\"\"The above and other objects are achieved according to the present invention by an oil sealing system for a turbo charger that comprises a housing, a shaft rotatably supported by the housing via a bearing, a turbine-rotor fixed to one end of the shaft, a compressor-rotor fixed to the other end of the shaft, an oil conduit formed in the housing for supplying oil between the shaft and the bearing for lubrication, and an oil sealing device for preventing oil leakage to the turbine-rotor. The oil sealing means comprises a depression and a drain formed in the housing, a ring-shaped depression and a groove formed on the shaft, and a seal-ring located between the housing and the groove.\"\"\"];"
      ],
      "execution_count": null,
      "outputs": []
    },
    {
      "cell_type": "code",
      "metadata": {
        "id": "OvKlmx96Ds_V"
      },
      "source": [
        "batch = tokenizer.prepare_seq2seq_batch(pegasusText2, truncation=True, padding='longest', return_tensors=\"pt\").to(torch_device)\r\n",
        "translated = model.generate(**batch)\r\n",
        "peg2 = tokenizer.batch_decode(translated, skip_special_tokens=True)"
      ],
      "execution_count": null,
      "outputs": []
    },
    {
      "cell_type": "code",
      "metadata": {
        "colab": {
          "base_uri": "https://localhost:8080/"
        },
        "id": "u7sFmsPHEOcV",
        "outputId": "c2ee10e6-86ce-4ac7-89ff-d865e8e8f27c"
      },
      "source": [
        "print(peg2)"
      ],
      "execution_count": null,
      "outputs": [
        {
          "output_type": "stream",
          "text": [
            "['An oil sealing system for a turbo charger comprises a housing, a shaft rotatably supported by the housing via a bearing, a turbine-rotor fixed to one end of the shaft, a compressor-rotor fixed to the other end of the shaft, an oil conduit formed in the housing for supplying oil between the', 'The present invention relates to an oil sealing system for a turbo charger, and more particularly to an oil sealing system for a turbine side of a turbo charger.', 'A conventional oil sealing system for a turbo charger related to the present invention is disclosed in Japanese Utility model Patent Publication No.', 'The rotor-housing 108 is fixed to the bearing-housing 102 by bolts 109, 110.', 'This diagram shows the location of an oil leak.', 'An oil sealing system is needed to prevent lubricating oil from leaking in a turbo charger.', 'An oil sealing system for a turbo charger that comprises a housing, a shaft rotatably supported by the housing via a bearing, a turbine-rotor fixed to one end of the shaft, a compressor-rotor fixed to the other end of the shaft, an oil conduit formed in the housing for supplying oil between']\n"
          ],
          "name": "stdout"
        }
      ]
    },
    {
      "cell_type": "code",
      "metadata": {
        "id": "xn2fNwWaGjWb"
      },
      "source": [
        "pegasusText3=[\"\"\"A water jacket in the turbo-charger is positioned at the same level or higher than a water jacket in an engine cylinder head. The turbo-charger cooling water circulation passageway includes a water volume or tank positioned at a level higher than the turbo-charger cooling portion, and the volume or tank is connected to a cooling water reservoir tank via a pressure relief valve which is opened when pressure in the volume or tank exceeds a predetermined value to supply cooling water to the volume or tank.\"\"\",\r\n",
        "              \"\"\"The present invention relates to a cooling system of an internal combustion engine having a turbo-charger. More particularly, it relates to a system for cooling the turbo-charger by circulating a part of the engine cooling water through a cooling water circulation passageway of the turbo-charger.\"\"\",\r\n",
        "              \"\"\"A turbo-charger for an internal combustion engine includes an exhaust turbine impeller which is exposed to and heated by the high temperature of engine exhaust gas passing through the turbo changer. Therefore, the shaft bearings of the turbo-charger are also heated because of the heat transmitted from the turbine impeller. A bearing housing of the turbo-charger is, therefore, usually provided with cooling water jackets in the vicinity of the turbine impeller, and when the engine is running a part of the engine cooling water is forcibly circulated therethrough to cool the bearing portions of the turbo-charger.\"\"\",\r\n",
        "              \"\"\"Namely, a cooling water passage is branched from the downstream side of a water pump to introduce the cooling water into the water jackets. Therefore, when the engine is running, the cooling water is compulsorily fed into the cooling system of the turbo-charger. However, when the engine is stopped, the performance for cooling the turbo-charger depends largely on a level at which the turbo-charger is positioned, since the bearing portions thereof are then cooled by a so-called natural or gravity circulation. Consequently, if the turbo-charger is positioned lower than the cylinder head of the engine, a natural circulation is established through conventional piping for the cooling water, which cools the the interior of the engine as well as the turbo-charger. However, if the turbo-charger is positioned higher than the engine cylinder, the cooling water may be boiled in the water jacket of the turbo-charger, thus filling the jackets with vapor (gas) which will prevent the circulation of the cooling water, when the engine is stopped after having been driven in a heavy load condition. Therefore, positioning the turbo-charger at a higher level than that of the engine with conventional piping for circulating cooling water causes an increase in the temperature of the bearing portions and a deterioration in the lubricant.\"\"\",\r\n",
        "              \"\"\"To avoid the above-mentioned problems, an electric water pump can be added exclusively for the cooling water piping of the turbo-charger, and this water pump is driven after the engine is stopped. This solution may provide effective cooling, but the electric water pump is very expensive per se, and the capacities of the alternator and battery must be increased to cope with the extra load incurred thereby.\r\n",
        "\r\n",
        "\r\n",
        "An object of the present invention is to provide a cooling system of an internal combustion engine having a turbo-charger capable of overcoming the disadvantages of the above-mentioned conventional cooling system of an engine.\"\"\",\r\n",
        "\"\"\"Another object of the present invention is to provide a cooling system of an internal combustion engine capable of cooling the bearing portions of the turbo-charger after the engine is stopped, capable of increasing the flexibility of the arrangement of the turbo-charger, and capable of supplying cooling water easily to the engine cooling system.\r\n",
        "\r\n",
        "\r\n",
        "One aspect of the present invention provides a cooling system of an internal combustion engine having a turbo-charger, comprising a cooling water circulation passageway filled with cooling water for cooling the engine including at least a cylinder head cooling portion, a cooling water circulation passageway for cooling the turbo-charger including a turbo-charger cooling portion, and means for supplying a part of the engine cooling water to the turbo-charger cooling water circulation passageway and returning it from there to the engine cooling water circulation passageway.\"\"\",\r\n",
        "\"\"\"Another aspect of the present invention provides a cooling system of an internal combustion engine having a turbo-charger, comprising an engine cooling water circulation passageway filled with cooling water including at least a cylinder head cooling portion, a water pump located at a water outlet of the engine for forcibly circulating the cooling water through the engine, and a thermostat valve located at a downstream side of the water pump, which valve is open to allow the cooling water to pass through a radiator when the temperature of the cooling water is increased, a turbo-charger cooling water circulation passageway, and means for supplying a part of the engine cooling water to the turbo-charger cooling water circulation passageway and returning it from there to the engine cooling water circulation passageway.\r\n",
        "\r\n",
        "\r\n",
        "In this aspect of the present invention, the turbo-charger cooling portion is positioned at the same level as or higher than the cylinder head cooling portion of the engine, the turbo-charger cooling water circulation passageway includes a water volume or tank positioned at a level higher than the turbo-charger cooling portion, and this volume or tank is connected to a cooling water reservoir tank via a pressure relief valve which is opened when the pressure in the volume exceeds a predetermined value, to supply cooling water to the volume.\"\"\"];"
      ],
      "execution_count": null,
      "outputs": []
    },
    {
      "cell_type": "code",
      "metadata": {
        "id": "fhHTjPyYHHNu"
      },
      "source": [
        "batch = tokenizer.prepare_seq2seq_batch(pegasusText3, truncation=True, padding='longest', return_tensors=\"pt\").to(torch_device)\r\n",
        "translated = model.generate(**batch)\r\n",
        "peg3 = tokenizer.batch_decode(translated, skip_special_tokens=True)"
      ],
      "execution_count": null,
      "outputs": []
    },
    {
      "cell_type": "code",
      "metadata": {
        "colab": {
          "base_uri": "https://localhost:8080/"
        },
        "id": "_ZkSYsWFIGEL",
        "outputId": "6681d984-a7ba-44a1-9cfe-1e16f6195b25"
      },
      "source": [
        "print(peg3)"
      ],
      "execution_count": null,
      "outputs": [
        {
          "output_type": "stream",
          "text": [
            "['A turbo-charger includes a turbo-charger cooling portion and a cooling water circulation passageway.', 'A system for cooling a turbo-charger by circulating a part of the engine cooling water through a cooling water circulation passageway of the turbo-charger has been disclosed.', 'A turbo-charger for an internal combustion engine includes an exhaust turbine impeller which is exposed to and heated by the high temperature of engine exhaust gas passing through the turbo changer.', 'The present invention relates to a turbo-charger, and more particularly to the cooling system of the turbo-charger.', 'The conventional cooling system of an internal combustion engine includes a turbo-charger, an electric water pump, an alternator, and a battery.', 'One aspect of the present invention is to provide a cooling system of an internal combustion engine having a turbo-charger, comprising a cooling water circulation passageway filled with cooling water for cooling the engine including at least a cylinder head cooling portion, a cooling water circulation passageway for cooling the turbo-charger including a turbo-charger', 'One aspect of the present invention provides a cooling system of an internal combustion engine having a turbo-charger, comprising an engine cooling water circulation passageway filled with cooling water including at least a cylinder head cooling portion, a water pump located at a water outlet of the engine for forcibly circulating the cooling water through the engine,']\n"
          ],
          "name": "stdout"
        }
      ]
    }
  ]
}