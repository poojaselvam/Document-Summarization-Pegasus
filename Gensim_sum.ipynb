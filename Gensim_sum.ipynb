{
  "nbformat": 4,
  "nbformat_minor": 0,
  "metadata": {
    "colab": {
      "name": "Gensim_sum.ipynb",
      "provenance": [],
      "collapsed_sections": [],
      "authorship_tag": "ABX9TyNQISuEMTttHmOHsR2rkI1I",
      "include_colab_link": true
    },
    "kernelspec": {
      "name": "python3",
      "display_name": "Python 3"
    }
  },
  "cells": [
    {
      "cell_type": "markdown",
      "metadata": {
        "id": "view-in-github",
        "colab_type": "text"
      },
      "source": [
        "<a href=\"https://colab.research.google.com/github/poojaselvam/Document-Summarization-Pegasus/blob/main/Gensim_sum.ipynb\" target=\"_parent\"><img src=\"https://colab.research.google.com/assets/colab-badge.svg\" alt=\"Open In Colab\"/></a>"
      ]
    },
    {
      "cell_type": "code",
      "metadata": {
        "id": "d-PHHpmA-w8w"
      },
      "source": [
        "from gensim.summarization.summarizer import summarize "
      ],
      "execution_count": 3,
      "outputs": []
    },
    {
      "cell_type": "code",
      "metadata": {
        "colab": {
          "base_uri": "https://localhost:8080/"
        },
        "id": "ND9QhewoPdUn",
        "outputId": "0684c4cf-6680-494a-8266-f525c57a3416"
      },
      "source": [
        "pip install en_core_web_sm"
      ],
      "execution_count": 4,
      "outputs": [
        {
          "output_type": "stream",
          "text": [
            "Requirement already satisfied: en_core_web_sm in /usr/local/lib/python3.6/dist-packages (2.2.5)\n",
            "Requirement already satisfied: spacy>=2.2.2 in /usr/local/lib/python3.6/dist-packages (from en_core_web_sm) (2.2.4)\n",
            "Requirement already satisfied: cymem<2.1.0,>=2.0.2 in /usr/local/lib/python3.6/dist-packages (from spacy>=2.2.2->en_core_web_sm) (2.0.5)\n",
            "Requirement already satisfied: preshed<3.1.0,>=3.0.2 in /usr/local/lib/python3.6/dist-packages (from spacy>=2.2.2->en_core_web_sm) (3.0.5)\n",
            "Requirement already satisfied: blis<0.5.0,>=0.4.0 in /usr/local/lib/python3.6/dist-packages (from spacy>=2.2.2->en_core_web_sm) (0.4.1)\n",
            "Requirement already satisfied: setuptools in /usr/local/lib/python3.6/dist-packages (from spacy>=2.2.2->en_core_web_sm) (53.0.0)\n",
            "Requirement already satisfied: numpy>=1.15.0 in /usr/local/lib/python3.6/dist-packages (from spacy>=2.2.2->en_core_web_sm) (1.19.5)\n",
            "Requirement already satisfied: tqdm<5.0.0,>=4.38.0 in /usr/local/lib/python3.6/dist-packages (from spacy>=2.2.2->en_core_web_sm) (4.41.1)\n",
            "Requirement already satisfied: thinc==7.4.0 in /usr/local/lib/python3.6/dist-packages (from spacy>=2.2.2->en_core_web_sm) (7.4.0)\n",
            "Requirement already satisfied: srsly<1.1.0,>=1.0.2 in /usr/local/lib/python3.6/dist-packages (from spacy>=2.2.2->en_core_web_sm) (1.0.5)\n",
            "Requirement already satisfied: wasabi<1.1.0,>=0.4.0 in /usr/local/lib/python3.6/dist-packages (from spacy>=2.2.2->en_core_web_sm) (0.8.2)\n",
            "Requirement already satisfied: catalogue<1.1.0,>=0.0.7 in /usr/local/lib/python3.6/dist-packages (from spacy>=2.2.2->en_core_web_sm) (1.0.0)\n",
            "Requirement already satisfied: requests<3.0.0,>=2.13.0 in /usr/local/lib/python3.6/dist-packages (from spacy>=2.2.2->en_core_web_sm) (2.23.0)\n",
            "Requirement already satisfied: plac<1.2.0,>=0.9.6 in /usr/local/lib/python3.6/dist-packages (from spacy>=2.2.2->en_core_web_sm) (1.1.3)\n",
            "Requirement already satisfied: murmurhash<1.1.0,>=0.28.0 in /usr/local/lib/python3.6/dist-packages (from spacy>=2.2.2->en_core_web_sm) (1.0.5)\n",
            "Requirement already satisfied: importlib-metadata>=0.20; python_version < \"3.8\" in /usr/local/lib/python3.6/dist-packages (from catalogue<1.1.0,>=0.0.7->spacy>=2.2.2->en_core_web_sm) (3.4.0)\n",
            "Requirement already satisfied: chardet<4,>=3.0.2 in /usr/local/lib/python3.6/dist-packages (from requests<3.0.0,>=2.13.0->spacy>=2.2.2->en_core_web_sm) (3.0.4)\n",
            "Requirement already satisfied: idna<3,>=2.5 in /usr/local/lib/python3.6/dist-packages (from requests<3.0.0,>=2.13.0->spacy>=2.2.2->en_core_web_sm) (2.10)\n",
            "Requirement already satisfied: certifi>=2017.4.17 in /usr/local/lib/python3.6/dist-packages (from requests<3.0.0,>=2.13.0->spacy>=2.2.2->en_core_web_sm) (2020.12.5)\n",
            "Requirement already satisfied: urllib3!=1.25.0,!=1.25.1,<1.26,>=1.21.1 in /usr/local/lib/python3.6/dist-packages (from requests<3.0.0,>=2.13.0->spacy>=2.2.2->en_core_web_sm) (1.24.3)\n",
            "Requirement already satisfied: zipp>=0.5 in /usr/local/lib/python3.6/dist-packages (from importlib-metadata>=0.20; python_version < \"3.8\"->catalogue<1.1.0,>=0.0.7->spacy>=2.2.2->en_core_web_sm) (3.4.0)\n",
            "Requirement already satisfied: typing-extensions>=3.6.4; python_version < \"3.8\" in /usr/local/lib/python3.6/dist-packages (from importlib-metadata>=0.20; python_version < \"3.8\"->catalogue<1.1.0,>=0.0.7->spacy>=2.2.2->en_core_web_sm) (3.7.4.3)\n"
          ],
          "name": "stdout"
        }
      ]
    },
    {
      "cell_type": "code",
      "metadata": {
        "id": "NrT5hOq8_PmQ"
      },
      "source": [
        "from gensim.summarization import keywords "
      ],
      "execution_count": 5,
      "outputs": []
    },
    {
      "cell_type": "code",
      "metadata": {
        "id": "NG3gHguR_W_T"
      },
      "source": [
        "Text1=\"A two-flow-passage type exhaust gas driven turbocharger, in which a scroll portion in a casing is divided by an annular partition to form two flow passages, the turbo-charger being constructed so that the difference between the temperature of the outer surface of the portion of the casing to which the partition is fixed and that of the partition can be minimized so as to reduce the thermal strain in the partition and thereby prevent thermal fatigue cracks from occurring therein. This invention relates to a two-flow-passage type exhaust gas driven turbo-charger, and, more particularly, to a two-flow-passage type exhaust gas driven turbo-charger suitable for preventing the thermal fatigue destruction of a partition.A two-flow-passage type exhaust gas driven turbo-charger is used for the purpose of improving the super-charging capability with respect to the low-speed rotation of an engine by utilizing exhaust pulses or narrowing of the flow passages so as to increase the flow rate of a gas.  In a turbo-charger of such a construction, a scroll casing is divided radially by a partition including an annular plate, in such a manner that the flow passages are independent of each other in an interior defined by an inner surface of the scroll casing. A radial flow type turbine wheel is provided in the casing, and the supercharging of the engine is affected by a compressor connected to the turbine wheel. A flow passage valve is provided which is closed when the engine has a low rotational speed, to increase the flow rate of the gas due to the narrow passages. While the turbo-charger of this construction is in operation, the temperature of the partition becomes higher than those of other portions thereof due to the high-temperature gas, so that the turbo-charger is compression-plastically deformed. When this turbo-charger is not in operation, the temperatures of all parts thereof become uniform, so that a tensile stress occurs therein. An object of the present invention is to provide a turbo-charger which is capable of preventing the thermal fatigue failure of a partition by minimizing a difference between the temperature of the partition and that of the outer surface of the portion of a casing to which the partition is fixed.To achieve the above object, the invention provides a two-passage type exhaust gas driven turbo-charger in which the outer surface of the portion of a casing to which a partition is fixed is covered with a heat-insulating material to promote an increase in the temperature of this portion of the casing and thereby minimize temperature differential between the casing and the partition so as to prevent thermal fatigue failure of the partition caused by the thermal strain occurring therein.   According to the present invention a two-passage type exhaust gas driven turbo-charger is provided in which a thickness of a root portion of a partition is smaller than that of a free end portion thereof to thereby minimize the temperature differential between the temperature of a casing and that of the partition so that the thermal fatigue failure of partition caused by the thermal strain occurring therein can be prevented.\""
      ],
      "execution_count": 6,
      "outputs": []
    },
    {
      "cell_type": "code",
      "metadata": {
        "colab": {
          "base_uri": "https://localhost:8080/",
          "height": 166
        },
        "id": "xqs2_FukAFTt",
        "outputId": "c84778f1-9105-4f3e-883e-2de2ed45ea98"
      },
      "source": [
        "nlp = en_core_web_sm.load() "
      ],
      "execution_count": 7,
      "outputs": [
        {
          "output_type": "error",
          "ename": "NameError",
          "evalue": "ignored",
          "traceback": [
            "\u001b[0;31m---------------------------------------------------------------------------\u001b[0m",
            "\u001b[0;31mNameError\u001b[0m                                 Traceback (most recent call last)",
            "\u001b[0;32m<ipython-input-7-7de6a06487d8>\u001b[0m in \u001b[0;36m<module>\u001b[0;34m()\u001b[0m\n\u001b[0;32m----> 1\u001b[0;31m \u001b[0mnlp\u001b[0m \u001b[0;34m=\u001b[0m \u001b[0men_core_web_sm\u001b[0m\u001b[0;34m.\u001b[0m\u001b[0mload\u001b[0m\u001b[0;34m(\u001b[0m\u001b[0;34m)\u001b[0m\u001b[0;34m\u001b[0m\u001b[0;34m\u001b[0m\u001b[0m\n\u001b[0m",
            "\u001b[0;31mNameError\u001b[0m: name 'en_core_web_sm' is not defined"
          ]
        }
      ]
    },
    {
      "cell_type": "code",
      "metadata": {
        "id": "u0Gy5v0F_3FT"
      },
      "source": [
        "summ_words1 = summarize(Text1) "
      ],
      "execution_count": 8,
      "outputs": []
    },
    {
      "cell_type": "code",
      "metadata": {
        "colab": {
          "base_uri": "https://localhost:8080/"
        },
        "id": "jKvr48x3RL5L",
        "outputId": "aad22924-e8d0-4abb-c10b-ae8e92f7593e"
      },
      "source": [
        "print(summ_words1)"
      ],
      "execution_count": 13,
      "outputs": [
        {
          "output_type": "stream",
          "text": [
            "A two-flow-passage type exhaust gas driven turbocharger, in which a scroll portion in a casing is divided by an annular partition to form two flow passages, the turbo-charger being constructed so that the difference between the temperature of the outer surface of the portion of the casing to which the partition is fixed and that of the partition can be minimized so as to reduce the thermal strain in the partition and thereby prevent thermal fatigue cracks from occurring therein.\n"
          ],
          "name": "stdout"
        }
      ]
    },
    {
      "cell_type": "code",
      "metadata": {
        "id": "g_SGSQ9sWT2I"
      },
      "source": [
        "summ=summarize(Text1, word_count=400)"
      ],
      "execution_count": 11,
      "outputs": []
    },
    {
      "cell_type": "code",
      "metadata": {
        "colab": {
          "base_uri": "https://localhost:8080/"
        },
        "id": "pLgl0pWjWzQ4",
        "outputId": "471e6268-7f38-4ffd-f43a-05d0ebe61616"
      },
      "source": [
        "print(summ)"
      ],
      "execution_count": 12,
      "outputs": [
        {
          "output_type": "stream",
          "text": [
            "A two-flow-passage type exhaust gas driven turbocharger, in which a scroll portion in a casing is divided by an annular partition to form two flow passages, the turbo-charger being constructed so that the difference between the temperature of the outer surface of the portion of the casing to which the partition is fixed and that of the partition can be minimized so as to reduce the thermal strain in the partition and thereby prevent thermal fatigue cracks from occurring therein.\n",
            "This invention relates to a two-flow-passage type exhaust gas driven turbo-charger, and, more particularly, to a two-flow-passage type exhaust gas driven turbo-charger suitable for preventing the thermal fatigue destruction of a partition.A two-flow-passage type exhaust gas driven turbo-charger is used for the purpose of improving the super-charging capability with respect to the low-speed rotation of an engine by utilizing exhaust pulses or narrowing of the flow passages so as to increase the flow rate of a gas.\n",
            "A flow passage valve is provided which is closed when the engine has a low rotational speed, to increase the flow rate of the gas due to the narrow passages.\n",
            "An object of the present invention is to provide a turbo-charger which is capable of preventing the thermal fatigue failure of a partition by minimizing a difference between the temperature of the partition and that of the outer surface of the portion of a casing to which the partition is fixed.To achieve the above object, the invention provides a two-passage type exhaust gas driven turbo-charger in which the outer surface of the portion of a casing to which a partition is fixed is covered with a heat-insulating material to promote an increase in the temperature of this portion of the casing and thereby minimize temperature differential between the casing and the partition so as to prevent thermal fatigue failure of the partition caused by the thermal strain occurring therein.\n",
            "According to the present invention a two-passage type exhaust gas driven turbo-charger is provided in which a thickness of a root portion of a partition is smaller than that of a free end portion thereof to thereby minimize the temperature differential between the temperature of a casing and that of the partition so that the thermal fatigue failure of partition caused by the thermal strain occurring therein can be prevented.\n"
          ],
          "name": "stdout"
        }
      ]
    },
    {
      "cell_type": "code",
      "metadata": {
        "id": "tCP5lv-LbYb9"
      },
      "source": [
        ""
      ],
      "execution_count": null,
      "outputs": []
    }
  ]
}