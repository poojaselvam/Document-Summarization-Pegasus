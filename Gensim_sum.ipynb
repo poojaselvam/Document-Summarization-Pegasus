{
  "nbformat": 4,
  "nbformat_minor": 0,
  "metadata": {
    "colab": {
      "name": "Gensim_sum.ipynb",
      "provenance": [],
      "collapsed_sections": [],
      "authorship_tag": "ABX9TyME9gGk+cbCfo5YBZUgaLh+",
      "include_colab_link": true
    },
    "kernelspec": {
      "name": "python3",
      "display_name": "Python 3"
    }
  },
  "cells": [
    {
      "cell_type": "markdown",
      "metadata": {
        "id": "view-in-github",
        "colab_type": "text"
      },
      "source": [
        "<a href=\"https://colab.research.google.com/github/poojaselvam/Document-Summarization-Pegasus/blob/main/Gensim_sum.ipynb\" target=\"_parent\"><img src=\"https://colab.research.google.com/assets/colab-badge.svg\" alt=\"Open In Colab\"/></a>"
      ]
    },
    {
      "cell_type": "code",
      "metadata": {
        "id": "d-PHHpmA-w8w"
      },
      "source": [
        "from gensim.summarization.summarizer import summarize "
      ],
      "execution_count": 3,
      "outputs": []
    },
    {
      "cell_type": "code",
      "metadata": {
        "colab": {
          "base_uri": "https://localhost:8080/"
        },
        "id": "ND9QhewoPdUn",
        "outputId": "0684c4cf-6680-494a-8266-f525c57a3416"
      },
      "source": [
        "pip install en_core_web_sm"
      ],
      "execution_count": 4,
      "outputs": [
        {
          "output_type": "stream",
          "text": [
            "Requirement already satisfied: en_core_web_sm in /usr/local/lib/python3.6/dist-packages (2.2.5)\n",
            "Requirement already satisfied: spacy>=2.2.2 in /usr/local/lib/python3.6/dist-packages (from en_core_web_sm) (2.2.4)\n",
            "Requirement already satisfied: cymem<2.1.0,>=2.0.2 in /usr/local/lib/python3.6/dist-packages (from spacy>=2.2.2->en_core_web_sm) (2.0.5)\n",
            "Requirement already satisfied: preshed<3.1.0,>=3.0.2 in /usr/local/lib/python3.6/dist-packages (from spacy>=2.2.2->en_core_web_sm) (3.0.5)\n",
            "Requirement already satisfied: blis<0.5.0,>=0.4.0 in /usr/local/lib/python3.6/dist-packages (from spacy>=2.2.2->en_core_web_sm) (0.4.1)\n",
            "Requirement already satisfied: setuptools in /usr/local/lib/python3.6/dist-packages (from spacy>=2.2.2->en_core_web_sm) (53.0.0)\n",
            "Requirement already satisfied: numpy>=1.15.0 in /usr/local/lib/python3.6/dist-packages (from spacy>=2.2.2->en_core_web_sm) (1.19.5)\n",
            "Requirement already satisfied: tqdm<5.0.0,>=4.38.0 in /usr/local/lib/python3.6/dist-packages (from spacy>=2.2.2->en_core_web_sm) (4.41.1)\n",
            "Requirement already satisfied: thinc==7.4.0 in /usr/local/lib/python3.6/dist-packages (from spacy>=2.2.2->en_core_web_sm) (7.4.0)\n",
            "Requirement already satisfied: srsly<1.1.0,>=1.0.2 in /usr/local/lib/python3.6/dist-packages (from spacy>=2.2.2->en_core_web_sm) (1.0.5)\n",
            "Requirement already satisfied: wasabi<1.1.0,>=0.4.0 in /usr/local/lib/python3.6/dist-packages (from spacy>=2.2.2->en_core_web_sm) (0.8.2)\n",
            "Requirement already satisfied: catalogue<1.1.0,>=0.0.7 in /usr/local/lib/python3.6/dist-packages (from spacy>=2.2.2->en_core_web_sm) (1.0.0)\n",
            "Requirement already satisfied: requests<3.0.0,>=2.13.0 in /usr/local/lib/python3.6/dist-packages (from spacy>=2.2.2->en_core_web_sm) (2.23.0)\n",
            "Requirement already satisfied: plac<1.2.0,>=0.9.6 in /usr/local/lib/python3.6/dist-packages (from spacy>=2.2.2->en_core_web_sm) (1.1.3)\n",
            "Requirement already satisfied: murmurhash<1.1.0,>=0.28.0 in /usr/local/lib/python3.6/dist-packages (from spacy>=2.2.2->en_core_web_sm) (1.0.5)\n",
            "Requirement already satisfied: importlib-metadata>=0.20; python_version < \"3.8\" in /usr/local/lib/python3.6/dist-packages (from catalogue<1.1.0,>=0.0.7->spacy>=2.2.2->en_core_web_sm) (3.4.0)\n",
            "Requirement already satisfied: chardet<4,>=3.0.2 in /usr/local/lib/python3.6/dist-packages (from requests<3.0.0,>=2.13.0->spacy>=2.2.2->en_core_web_sm) (3.0.4)\n",
            "Requirement already satisfied: idna<3,>=2.5 in /usr/local/lib/python3.6/dist-packages (from requests<3.0.0,>=2.13.0->spacy>=2.2.2->en_core_web_sm) (2.10)\n",
            "Requirement already satisfied: certifi>=2017.4.17 in /usr/local/lib/python3.6/dist-packages (from requests<3.0.0,>=2.13.0->spacy>=2.2.2->en_core_web_sm) (2020.12.5)\n",
            "Requirement already satisfied: urllib3!=1.25.0,!=1.25.1,<1.26,>=1.21.1 in /usr/local/lib/python3.6/dist-packages (from requests<3.0.0,>=2.13.0->spacy>=2.2.2->en_core_web_sm) (1.24.3)\n",
            "Requirement already satisfied: zipp>=0.5 in /usr/local/lib/python3.6/dist-packages (from importlib-metadata>=0.20; python_version < \"3.8\"->catalogue<1.1.0,>=0.0.7->spacy>=2.2.2->en_core_web_sm) (3.4.0)\n",
            "Requirement already satisfied: typing-extensions>=3.6.4; python_version < \"3.8\" in /usr/local/lib/python3.6/dist-packages (from importlib-metadata>=0.20; python_version < \"3.8\"->catalogue<1.1.0,>=0.0.7->spacy>=2.2.2->en_core_web_sm) (3.7.4.3)\n"
          ],
          "name": "stdout"
        }
      ]
    },
    {
      "cell_type": "code",
      "metadata": {
        "id": "NrT5hOq8_PmQ"
      },
      "source": [
        "from gensim.summarization import keywords "
      ],
      "execution_count": 5,
      "outputs": []
    },
    {
      "cell_type": "code",
      "metadata": {
        "id": "NG3gHguR_W_T"
      },
      "source": [
        "Text1=\"A two-flow-passage type exhaust gas driven turbocharger, in which a scroll portion in a casing is divided by an annular partition to form two flow passages, the turbo-charger being constructed so that the difference between the temperature of the outer surface of the portion of the casing to which the partition is fixed and that of the partition can be minimized so as to reduce the thermal strain in the partition and thereby prevent thermal fatigue cracks from occurring therein. This invention relates to a two-flow-passage type exhaust gas driven turbo-charger, and, more particularly, to a two-flow-passage type exhaust gas driven turbo-charger suitable for preventing the thermal fatigue destruction of a partition.A two-flow-passage type exhaust gas driven turbo-charger is used for the purpose of improving the super-charging capability with respect to the low-speed rotation of an engine by utilizing exhaust pulses or narrowing of the flow passages so as to increase the flow rate of a gas.  In a turbo-charger of such a construction, a scroll casing is divided radially by a partition including an annular plate, in such a manner that the flow passages are independent of each other in an interior defined by an inner surface of the scroll casing. A radial flow type turbine wheel is provided in the casing, and the supercharging of the engine is affected by a compressor connected to the turbine wheel. A flow passage valve is provided which is closed when the engine has a low rotational speed, to increase the flow rate of the gas due to the narrow passages. While the turbo-charger of this construction is in operation, the temperature of the partition becomes higher than those of other portions thereof due to the high-temperature gas, so that the turbo-charger is compression-plastically deformed. When this turbo-charger is not in operation, the temperatures of all parts thereof become uniform, so that a tensile stress occurs therein. An object of the present invention is to provide a turbo-charger which is capable of preventing the thermal fatigue failure of a partition by minimizing a difference between the temperature of the partition and that of the outer surface of the portion of a casing to which the partition is fixed.To achieve the above object, the invention provides a two-passage type exhaust gas driven turbo-charger in which the outer surface of the portion of a casing to which a partition is fixed is covered with a heat-insulating material to promote an increase in the temperature of this portion of the casing and thereby minimize temperature differential between the casing and the partition so as to prevent thermal fatigue failure of the partition caused by the thermal strain occurring therein.   According to the present invention a two-passage type exhaust gas driven turbo-charger is provided in which a thickness of a root portion of a partition is smaller than that of a free end portion thereof to thereby minimize the temperature differential between the temperature of a casing and that of the partition so that the thermal fatigue failure of partition caused by the thermal strain occurring therein can be prevented.\""
      ],
      "execution_count": 6,
      "outputs": []
    },
    {
      "cell_type": "code",
      "metadata": {
        "colab": {
          "base_uri": "https://localhost:8080/",
          "height": 166
        },
        "id": "xqs2_FukAFTt",
        "outputId": "c84778f1-9105-4f3e-883e-2de2ed45ea98"
      },
      "source": [
        "nlp = en_core_web_sm.load() "
      ],
      "execution_count": 7,
      "outputs": [
        {
          "output_type": "error",
          "ename": "NameError",
          "evalue": "ignored",
          "traceback": [
            "\u001b[0;31m---------------------------------------------------------------------------\u001b[0m",
            "\u001b[0;31mNameError\u001b[0m                                 Traceback (most recent call last)",
            "\u001b[0;32m<ipython-input-7-7de6a06487d8>\u001b[0m in \u001b[0;36m<module>\u001b[0;34m()\u001b[0m\n\u001b[0;32m----> 1\u001b[0;31m \u001b[0mnlp\u001b[0m \u001b[0;34m=\u001b[0m \u001b[0men_core_web_sm\u001b[0m\u001b[0;34m.\u001b[0m\u001b[0mload\u001b[0m\u001b[0;34m(\u001b[0m\u001b[0;34m)\u001b[0m\u001b[0;34m\u001b[0m\u001b[0;34m\u001b[0m\u001b[0m\n\u001b[0m",
            "\u001b[0;31mNameError\u001b[0m: name 'en_core_web_sm' is not defined"
          ]
        }
      ]
    },
    {
      "cell_type": "code",
      "metadata": {
        "id": "u0Gy5v0F_3FT"
      },
      "source": [
        "summ_words1 = summarize(Text1) "
      ],
      "execution_count": 8,
      "outputs": []
    },
    {
      "cell_type": "code",
      "metadata": {
        "colab": {
          "base_uri": "https://localhost:8080/"
        },
        "id": "jKvr48x3RL5L",
        "outputId": "aad22924-e8d0-4abb-c10b-ae8e92f7593e"
      },
      "source": [
        "print(summ_words1)"
      ],
      "execution_count": 13,
      "outputs": [
        {
          "output_type": "stream",
          "text": [
            "A two-flow-passage type exhaust gas driven turbocharger, in which a scroll portion in a casing is divided by an annular partition to form two flow passages, the turbo-charger being constructed so that the difference between the temperature of the outer surface of the portion of the casing to which the partition is fixed and that of the partition can be minimized so as to reduce the thermal strain in the partition and thereby prevent thermal fatigue cracks from occurring therein.\n"
          ],
          "name": "stdout"
        }
      ]
    },
    {
      "cell_type": "code",
      "metadata": {
        "id": "g_SGSQ9sWT2I"
      },
      "source": [
        "summ=summarize(Text1, word_count=400)"
      ],
      "execution_count": 11,
      "outputs": []
    },
    {
      "cell_type": "code",
      "metadata": {
        "colab": {
          "base_uri": "https://localhost:8080/"
        },
        "id": "pLgl0pWjWzQ4",
        "outputId": "471e6268-7f38-4ffd-f43a-05d0ebe61616"
      },
      "source": [
        "print(summ)"
      ],
      "execution_count": 12,
      "outputs": [
        {
          "output_type": "stream",
          "text": [
            "A two-flow-passage type exhaust gas driven turbocharger, in which a scroll portion in a casing is divided by an annular partition to form two flow passages, the turbo-charger being constructed so that the difference between the temperature of the outer surface of the portion of the casing to which the partition is fixed and that of the partition can be minimized so as to reduce the thermal strain in the partition and thereby prevent thermal fatigue cracks from occurring therein.\n",
            "This invention relates to a two-flow-passage type exhaust gas driven turbo-charger, and, more particularly, to a two-flow-passage type exhaust gas driven turbo-charger suitable for preventing the thermal fatigue destruction of a partition.A two-flow-passage type exhaust gas driven turbo-charger is used for the purpose of improving the super-charging capability with respect to the low-speed rotation of an engine by utilizing exhaust pulses or narrowing of the flow passages so as to increase the flow rate of a gas.\n",
            "A flow passage valve is provided which is closed when the engine has a low rotational speed, to increase the flow rate of the gas due to the narrow passages.\n",
            "An object of the present invention is to provide a turbo-charger which is capable of preventing the thermal fatigue failure of a partition by minimizing a difference between the temperature of the partition and that of the outer surface of the portion of a casing to which the partition is fixed.To achieve the above object, the invention provides a two-passage type exhaust gas driven turbo-charger in which the outer surface of the portion of a casing to which a partition is fixed is covered with a heat-insulating material to promote an increase in the temperature of this portion of the casing and thereby minimize temperature differential between the casing and the partition so as to prevent thermal fatigue failure of the partition caused by the thermal strain occurring therein.\n",
            "According to the present invention a two-passage type exhaust gas driven turbo-charger is provided in which a thickness of a root portion of a partition is smaller than that of a free end portion thereof to thereby minimize the temperature differential between the temperature of a casing and that of the partition so that the thermal fatigue failure of partition caused by the thermal strain occurring therein can be prevented.\n"
          ],
          "name": "stdout"
        }
      ]
    },
    {
      "cell_type": "code",
      "metadata": {
        "id": "tCP5lv-LbYb9"
      },
      "source": [
        "Text2=\"An oil sealing system for a turbo charger comprises a housing, a shaft rotatably supported by the housing via a bearing, a turbine-rotor fixed to one end of the shaft, a compressor-rotor fixed to the other end of the shaft, an oil conduit formed in the housing for supplying oil between the shaft and the bearing for lubrication, and an oil sealing device for preventing oil leakage to the turbine-rotor. The oil sealing device comprises, a depression and a drain formed in the housing, a ring-shaped depression and a groove formed on the shaft, and a seal-ring located between the housing and the groove. The present invention relates to an oil sealing system for a turbo charger, and more particularly to an oil sealing system for a turbine side of a turbo charger. A conventional oil sealing system for a turbo charger related to the present invention is disclosed in Japanese Utility model Patent Publication No. 41-1841 published on Feb. 10, 1966, and is shown in FIG. 6. There, a shaft 101 of a turbo charger 100 is rotatably supported in a bearing-housing 102 via bearings 103, 104 and a plate 105. The bearings 103, 104 are lubricated by oil which is supplied through a passage 107. The oil is discharged to an oil-pan (not shown) through a drain-port 113. The plate 105 has a ring-shaped flange portion 105a. A bushing 114 which is located around the shaft 101 has a screw 114a. The rotating direction of the screw 114a is formed against the rotating direction of the shaft 101. Plate 115 is located around the screw 114a. A compressor-rotor 106 is fixed to an one end of the shaft 101, and a turbine-rotor (not shown) is fixed to the other end of the shaft 101. A rotor-housing 108 is fixed to the bearing-housing 102 by bolts 109, 110. The rotor-housing 108 has an inlet 111 and an outlet 112.Oil which lubricates the bearings 103, 104 is drawn toward the outlet 112 by the negative pressure that is generated behind the compressor-rotor 106. The outlet 112 is connected to an intake manifold of an engine (not shown). Thus, it is necessary that the oil leaking is prevented.However, this oil sealing system is complicated in construction. Manufacturing of the system requires many steps and involves relatively high costs.Accordingly, it is a primary object of the present invention to prevent lubricating oil from leaking in a turbo charger.The above and other objects are achieved according to the present invention by an oil sealing system for a turbo charger that comprises a housing, a shaft rotatably supported by the housing via a bearing, a turbine-rotor fixed to one end of the shaft, a compressor-rotor fixed to the other end of the shaft, an oil conduit formed in the housing for supplying oil between the shaft and the bearing for lubrication, and an oil sealing device for preventing oil leakage to the turbine-rotor. The oil sealing means comprises a depression and a drain formed in the housing, a ring-shaped depression and a groove formed on the shaft, and a seal-ring located between the housing and the groove.\""
      ],
      "execution_count": 17,
      "outputs": []
    },
    {
      "cell_type": "code",
      "metadata": {
        "id": "Au-WKhvQf6Fb"
      },
      "source": [
        ""
      ],
      "execution_count": null,
      "outputs": []
    },
    {
      "cell_type": "code",
      "metadata": {
        "id": "NjUx695fefpo"
      },
      "source": [
        "summ2=summarize(Text2)"
      ],
      "execution_count": 18,
      "outputs": []
    },
    {
      "cell_type": "code",
      "metadata": {
        "colab": {
          "base_uri": "https://localhost:8080/"
        },
        "id": "7Vchs985fYfa",
        "outputId": "5369fd11-a894-4ed3-dcd2-bcdb3167af30"
      },
      "source": [
        "print(summ2)"
      ],
      "execution_count": 19,
      "outputs": [
        {
          "output_type": "stream",
          "text": [
            "An oil sealing system for a turbo charger comprises a housing, a shaft rotatably supported by the housing via a bearing, a turbine-rotor fixed to one end of the shaft, a compressor-rotor fixed to the other end of the shaft, an oil conduit formed in the housing for supplying oil between the shaft and the bearing for lubrication, and an oil sealing device for preventing oil leakage to the turbine-rotor.\n",
            "The oil sealing device comprises, a depression and a drain formed in the housing, a ring-shaped depression and a groove formed on the shaft, and a seal-ring located between the housing and the groove.\n",
            "The oil sealing means comprises a depression and a drain formed in the housing, a ring-shaped depression and a groove formed on the shaft, and a seal-ring located between the housing and the groove.\n"
          ],
          "name": "stdout"
        }
      ]
    }
  ]
}